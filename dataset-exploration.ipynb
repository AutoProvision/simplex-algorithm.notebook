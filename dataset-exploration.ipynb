{
 "cells": [
  {
   "cell_type": "code",
   "execution_count": 1,
   "metadata": {},
   "outputs": [],
   "source": [
    "import pandas as pd"
   ]
  },
  {
   "cell_type": "code",
   "execution_count": 2,
   "metadata": {},
   "outputs": [],
   "source": [
    "df = pd.read_csv('planilha_2024/planilha_202401.csv', sep=';')\n"
   ]
  },
  {
   "cell_type": "code",
   "execution_count": 8,
   "metadata": {},
   "outputs": [
    {
     "name": "stdout",
     "output_type": "stream",
     "text": [
      "    data_base  uf       tcb  sr cliente                     ocupacao  \\\n",
      "0  2024-01-31  AC  Bancário  S1      PF  PF - Aposentado/pensionista   \n",
      "1  2024-01-31  AC  Bancário  S1      PF  PF - Aposentado/pensionista   \n",
      "2  2024-01-31  AC  Bancário  S1      PF  PF - Aposentado/pensionista   \n",
      "3  2024-01-31  AC  Bancário  S1      PF  PF - Aposentado/pensionista   \n",
      "4  2024-01-31  AC  Bancário  S1      PF  PF - Aposentado/pensionista   \n",
      "\n",
      "  cnae_secao cnae_subclasse                                          porte  \\\n",
      "0          -              -  PF - Acima de 20 salários mínimos               \n",
      "1          -              -  PF - Acima de 20 salários mínimos               \n",
      "2          -              -  PF - Acima de 20 salários mínimos               \n",
      "3          -              -  PF - Acima de 20 salários mínimos               \n",
      "4          -              -  PF - Acima de 20 salários mínimos               \n",
      "\n",
      "                                 modalidade  ... a_vencer_ate_90_dias  \\\n",
      "0                    PF - Cartão de crédito  ...               148,01   \n",
      "1                    PF - Cartão de crédito  ...           3502469,36   \n",
      "2  PF - Empréstimo com consignação em folha  ...           1367043,82   \n",
      "3  PF - Empréstimo sem consignação em folha  ...            229314,99   \n",
      "4                         PF - Habitacional  ...             64819,64   \n",
      "\n",
      "  a_vencer_de_91_ate_360_dias a_vencer_de_361_ate_1080_dias  \\\n",
      "0                     8314,94                          0,00   \n",
      "1                   969235,74                     208294,79   \n",
      "2                  3543091,89                    9102902,57   \n",
      "3                   726558,45                    1113006,03   \n",
      "4                   180428,77                     407023,18   \n",
      "\n",
      "  a_vencer_de_1081_ate_1800_dias a_vencer_de_1801_ate_5400_dias  \\\n",
      "0                           0,00                           0,00   \n",
      "1                       14299,24                       37323,18   \n",
      "2                     7140926,65                     7718330,45   \n",
      "3                      544470,15                      289967,59   \n",
      "4                      305874,05                      604248,57   \n",
      "\n",
      "  a_vencer_acima_de_5400_dias vencido_acima_de_15_dias carteira_ativa  \\\n",
      "0                        0,00                     0,00        8462,95   \n",
      "1                        0,00                234806,23     4966428,54   \n",
      "2                        0,00                116344,01    28988639,39   \n",
      "3                        0,00                  4791,23     2908108,44   \n",
      "4                    84231,48                     0,00     1646625,69   \n",
      "\n",
      "  carteira_inadimplida_arrastada ativo_problematico  \n",
      "0                           0,00               0,00  \n",
      "1                      208149,45          316482,90  \n",
      "2                      601625,71          667694,47  \n",
      "3                        4253,96           44085,28  \n",
      "4                           0,00               0,00  \n",
      "\n",
      "[5 rows x 23 columns]\n"
     ]
    }
   ],
   "source": [
    "print(df.head())"
   ]
  },
  {
   "cell_type": "code",
   "execution_count": 4,
   "metadata": {},
   "outputs": [
    {
     "name": "stdout",
     "output_type": "stream",
     "text": [
      "Index(['data_base', 'uf', 'tcb', 'sr', 'cliente', 'ocupacao', 'cnae_secao',\n",
      "       'cnae_subclasse', 'porte', 'modalidade', 'origem', 'indexador',\n",
      "       'numero_de_operacoes', 'a_vencer_ate_90_dias',\n",
      "       'a_vencer_de_91_ate_360_dias', 'a_vencer_de_361_ate_1080_dias',\n",
      "       'a_vencer_de_1081_ate_1800_dias', 'a_vencer_de_1801_ate_5400_dias',\n",
      "       'a_vencer_acima_de_5400_dias', 'vencido_acima_de_15_dias',\n",
      "       'carteira_ativa', 'carteira_inadimplida_arrastada',\n",
      "       'ativo_problematico'],\n",
      "      dtype='object')\n",
      "data_base                         904061\n",
      "uf                                904061\n",
      "tcb                               904061\n",
      "sr                                896604\n",
      "cliente                           904061\n",
      "ocupacao                          904061\n",
      "cnae_secao                        904061\n",
      "cnae_subclasse                    904061\n",
      "porte                             904061\n",
      "modalidade                        904061\n",
      "origem                            904061\n",
      "indexador                         904061\n",
      "numero_de_operacoes               904061\n",
      "a_vencer_ate_90_dias              904061\n",
      "a_vencer_de_91_ate_360_dias       904061\n",
      "a_vencer_de_361_ate_1080_dias     904061\n",
      "a_vencer_de_1081_ate_1800_dias    904061\n",
      "a_vencer_de_1801_ate_5400_dias    904061\n",
      "a_vencer_acima_de_5400_dias       904061\n",
      "vencido_acima_de_15_dias          904061\n",
      "carteira_ativa                    904061\n",
      "carteira_inadimplida_arrastada    904061\n",
      "ativo_problematico                904061\n",
      "dtype: int64\n"
     ]
    }
   ],
   "source": [
    "print(df.columns)\n",
    "print(df.count())"
   ]
  },
  {
   "cell_type": "code",
   "execution_count": 5,
   "metadata": {},
   "outputs": [
    {
     "name": "stdout",
     "output_type": "stream",
     "text": [
      "['PF - Aposentado/pensionista' 'PF - Autônomo'\n",
      " 'PF - Empregado de empresa privada'\n",
      " 'PF - Empregado de entidades sem fins lucrativos' 'PF - Empresário'\n",
      " 'PF - MEI' 'PF - Outros' 'PF - Servidor ou empregado público' '-']\n"
     ]
    }
   ],
   "source": [
    "print(df['ocupacao'].unique())"
   ]
  },
  {
   "cell_type": "code",
   "execution_count": 6,
   "metadata": {},
   "outputs": [
    {
     "name": "stdout",
     "output_type": "stream",
     "text": [
      "['Bancário' 'Cooperativas' 'Não bancário']\n"
     ]
    }
   ],
   "source": [
    "print(df['tcb'].unique())"
   ]
  },
  {
   "cell_type": "code",
   "execution_count": 7,
   "metadata": {},
   "outputs": [
    {
     "name": "stdout",
     "output_type": "stream",
     "text": [
      "0             148,01\n",
      "1         3502469,36\n",
      "2         1367043,82\n",
      "3          229314,99\n",
      "4           64819,64\n",
      "             ...    \n",
      "904056          0,00\n",
      "904057       8040,81\n",
      "904058        254,50\n",
      "904059       1722,02\n",
      "904060        277,00\n",
      "Name: a_vencer_ate_90_dias, Length: 904061, dtype: object\n"
     ]
    }
   ],
   "source": [
    "print(df['a_vencer_ate_90_dias'])"
   ]
  }
 ],
 "metadata": {
  "kernelspec": {
   "display_name": "Python 3",
   "language": "python",
   "name": "python3"
  },
  "language_info": {
   "codemirror_mode": {
    "name": "ipython",
    "version": 3
   },
   "file_extension": ".py",
   "mimetype": "text/x-python",
   "name": "python",
   "nbconvert_exporter": "python",
   "pygments_lexer": "ipython3",
   "version": "3.10.12"
  }
 },
 "nbformat": 4,
 "nbformat_minor": 2
}
