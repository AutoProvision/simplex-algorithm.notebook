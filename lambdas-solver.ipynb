{
 "cells": [
  {
   "cell_type": "code",
   "execution_count": 1,
   "metadata": {},
   "outputs": [],
   "source": [
    "%%capture\n",
    "%pip install pulp"
   ]
  },
  {
   "cell_type": "code",
   "execution_count": 2,
   "metadata": {},
   "outputs": [],
   "source": [
    "from pulp import *"
   ]
  },
  {
   "cell_type": "markdown",
   "metadata": {},
   "source": [
    "| Biblioteca | Tempo de Execução (s) | Consumo de RAM (MB) | Saída em Disco (MB) |\n",
    "|------------|------------------------|---------------------|---------------------|\n",
    "| Pandas | 52.4 | 850 | 120 |\n",
    "| PySpark | 46.8 | 780 | 125 |\n",
    "| Polars | 31.5 | 630 | 210 |"
   ]
  },
  {
   "cell_type": "code",
   "execution_count": 3,
   "metadata": {},
   "outputs": [],
   "source": [
    "modelo = LpProblem('Minimizar_Custos_lambdas', LpMinimize)\n",
    "\n",
    "x1 = LpVariable('Pandas', lowBound=0, cat=LpInteger)\n",
    "x2 = LpVariable('PySpark', lowBound=0, cat=LpInteger)\n",
    "x3 = LpVariable('Polars', lowBound=0, cat=LpInteger)"
   ]
  },
  {
   "cell_type": "markdown",
   "metadata": {},
   "source": [
    "### Objetivo (Minimização do Gasto gerado por cada Lambda)"
   ]
  },
  {
   "cell_type": "markdown",
   "metadata": {},
   "source": [
    "Gasto Individual = 0.00000016210937 * Tempo de Execução (Ms) * Consumo de RAM (Mb)"
   ]
  },
  {
   "cell_type": "code",
   "execution_count": 4,
   "metadata": {},
   "outputs": [],
   "source": [
    "modelo +=\\\n",
    "\t(0.00000016210937 * (52.4*1000) * 850 * x1) +\\\n",
    "\t(0.00000016210937 * (46.8*1000) * 780 * x2) +\\\n",
    "\t(0.00000016210937 * (31.5*1000) * 630 * x3), 'Perda_Total'"
   ]
  },
  {
   "cell_type": "markdown",
   "metadata": {},
   "source": [
    "### Restrições do Modelo"
   ]
  },
  {
   "cell_type": "markdown",
   "metadata": {},
   "source": [
    "#### Restringindo por quantidade requisitada de chamadas"
   ]
  },
  {
   "cell_type": "code",
   "execution_count": 5,
   "metadata": {},
   "outputs": [],
   "source": [
    "USOS_MENSAIS = 30"
   ]
  },
  {
   "cell_type": "code",
   "execution_count": 6,
   "metadata": {},
   "outputs": [],
   "source": [
    "modelo += x1 + x2 + x3 == 30"
   ]
  },
  {
   "cell_type": "markdown",
   "metadata": {},
   "source": [
    "#### Restringindo por máximo de armazenamento em disco"
   ]
  },
  {
   "cell_type": "code",
   "execution_count": 7,
   "metadata": {},
   "outputs": [],
   "source": [
    "MAXIMO_DISCO_S3 = 4000"
   ]
  },
  {
   "cell_type": "code",
   "execution_count": 8,
   "metadata": {},
   "outputs": [],
   "source": [
    "modelo +=\\\n",
    "\t120 * x1 +\\\n",
    "\t125 * x2 +\\\n",
    "\t170 * x3 <= MAXIMO_DISCO_S3, 'Máximo_Disco_Disponivel'"
   ]
  },
  {
   "cell_type": "markdown",
   "metadata": {},
   "source": [
    "#### Restringindo por número mínimo de chamadas que precisamos para gerar registros relevantes depois"
   ]
  },
  {
   "cell_type": "code",
   "execution_count": 9,
   "metadata": {},
   "outputs": [],
   "source": [
    "AMOSTRA_MINIMA_POSSIVEL = 5"
   ]
  },
  {
   "cell_type": "code",
   "execution_count": 10,
   "metadata": {},
   "outputs": [],
   "source": [
    "for var in [\n",
    "\t(x1 >= AMOSTRA_MINIMA_POSSIVEL, 'Pandas'),\n",
    "\t(x2 >= AMOSTRA_MINIMA_POSSIVEL, 'PySpark'),\n",
    "\t(x3 >= AMOSTRA_MINIMA_POSSIVEL, 'Polars'),\n",
    "]:\n",
    "\tmodelo += var"
   ]
  },
  {
   "cell_type": "markdown",
   "metadata": {},
   "source": [
    "### Visualização dos resultados"
   ]
  },
  {
   "cell_type": "code",
   "execution_count": 11,
   "metadata": {},
   "outputs": [
    {
     "data": {
      "text/plain": [
       "1"
      ]
     },
     "execution_count": 11,
     "metadata": {},
     "output_type": "execute_result"
    }
   ],
   "source": [
    "modelo.solve(PULP_CBC_CMD(msg=False))"
   ]
  },
  {
   "cell_type": "code",
   "execution_count": 12,
   "metadata": {},
   "outputs": [
    {
     "name": "stdout",
     "output_type": "stream",
     "text": [
      "Quantidade de chamadas do Pandas (x1): 5.0\n",
      "Quantidade de chamadas do PySpark (x2): 19.0\n",
      "Quantidade de chamadas do Polars (x3): 6.0\n"
     ]
    }
   ],
   "source": [
    "print(f\"Quantidade de chamadas do Pandas (x1): {x1.varValue}\")\n",
    "print(f\"Quantidade de chamadas do PySpark (x2): {x2.varValue}\")\n",
    "print(f\"Quantidade de chamadas do Polars (x3): {x3.varValue}\")"
   ]
  },
  {
   "cell_type": "code",
   "execution_count": 13,
   "metadata": {},
   "outputs": [
    {
     "data": {
      "text/plain": [
       "'Gasto Total: 167.83928779202'"
      ]
     },
     "execution_count": 13,
     "metadata": {},
     "output_type": "execute_result"
    }
   ],
   "source": [
    "f\"Gasto Total: {modelo.objective.value()}\""
   ]
  }
 ],
 "metadata": {
  "kernelspec": {
   "display_name": "Python 3",
   "language": "python",
   "name": "python3"
  },
  "language_info": {
   "codemirror_mode": {
    "name": "ipython",
    "version": 3
   },
   "file_extension": ".py",
   "mimetype": "text/x-python",
   "name": "python",
   "nbconvert_exporter": "python",
   "pygments_lexer": "ipython3",
   "version": "3.12.7"
  }
 },
 "nbformat": 4,
 "nbformat_minor": 2
}
