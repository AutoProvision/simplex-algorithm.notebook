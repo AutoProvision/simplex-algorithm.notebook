{
 "cells": [
  {
   "cell_type": "code",
   "execution_count": 1,
   "metadata": {},
   "outputs": [],
   "source": [
    "%%capture\n",
    "%pip install pandas"
   ]
  },
  {
   "cell_type": "code",
   "execution_count": 2,
   "metadata": {},
   "outputs": [],
   "source": [
    "import pandas as pd"
   ]
  },
  {
   "cell_type": "code",
   "execution_count": 3,
   "metadata": {},
   "outputs": [],
   "source": [
    "df = pd.read_parquet('data/df.parquet')"
   ]
  },
  {
   "cell_type": "code",
   "execution_count": 4,
   "metadata": {},
   "outputs": [],
   "source": [
    "df = df[df['dt_referencia'].between('2024-01-01', '2024-12-31')]"
   ]
  },
  {
   "cell_type": "code",
   "execution_count": 5,
   "metadata": {},
   "outputs": [
    {
     "data": {
      "text/plain": [
       "ct_modalidade\n",
       "Crédito pessoal não-consignado                    15927\n",
       "Capital de giro com prazo superior a 365 dias     13153\n",
       "Cartão de crédito - rotativo total                11601\n",
       "Capital de giro com prazo até 365 dias            11495\n",
       "Cartão de crédito - parcelado                     11430\n",
       "Conta garantida                                   10760\n",
       "Cheque especial                                   10605\n",
       "Desconto de duplicatas                             9420\n",
       "Crédito pessoal consignado privado                 8873\n",
       "Crédito pessoal consignado público                 7727\n",
       "Aquisição de veículos                              7520\n",
       "Crédito pessoal consignado INSS                    7365\n",
       "Aquisição de outros bens                           6637\n",
       "Adiantamento sobre contratos de câmbio (ACC)       5616\n",
       "Desconto de cheques                                2865\n",
       "Antecipação de faturas de cartão de crédito        2750\n",
       "Vendor                                             1640\n",
       "Financiamento imobiliário com taxas de mercado      179\n",
       "Financiamento imobiliário com taxas reguladas       142\n",
       "Arrendamento mercantil de veículos                   65\n",
       "Name: count, dtype: int64"
      ]
     },
     "execution_count": 5,
     "metadata": {},
     "output_type": "execute_result"
    }
   ],
   "source": [
    "df['ct_modalidade'].value_counts()"
   ]
  },
  {
   "cell_type": "code",
   "execution_count": 9,
   "metadata": {},
   "outputs": [
    {
     "data": {
      "text/plain": [
       "count    24648.000000\n",
       "mean         2.134467\n",
       "std          1.396250\n",
       "min          0.010000\n",
       "25%          1.350800\n",
       "50%          1.758000\n",
       "75%          2.403000\n",
       "max         13.084800\n",
       "Name: vl_taxa_juros_mes, dtype: float64"
      ]
     },
     "execution_count": 9,
     "metadata": {},
     "output_type": "execute_result"
    }
   ],
   "source": [
    "df[\n",
    "    (df['ct_modalidade'] == 'Capital de giro com prazo até 365 dias') |\n",
    "    (df['ct_modalidade'] == 'Capital de giro com prazo superior a 365 dias')\n",
    "]['vl_taxa_juros_mes'].describe()"
   ]
  },
  {
   "cell_type": "code",
   "execution_count": 7,
   "metadata": {},
   "outputs": [
    {
     "data": {
      "text/plain": [
       "count    10605.000000\n",
       "mean         8.169857\n",
       "std          3.487541\n",
       "min          0.000000\n",
       "25%          5.935700\n",
       "50%          8.065600\n",
       "75%          9.198700\n",
       "max         20.423300\n",
       "Name: vl_taxa_juros_mes, dtype: float64"
      ]
     },
     "execution_count": 7,
     "metadata": {},
     "output_type": "execute_result"
    }
   ],
   "source": [
    "df[df['ct_modalidade'] == 'Cheque especial']['vl_taxa_juros_mes'].describe()"
   ]
  },
  {
   "cell_type": "code",
   "execution_count": 8,
   "metadata": {},
   "outputs": [
    {
     "data": {
      "text/plain": [
       "count    15927.000000\n",
       "mean         6.435813\n",
       "std          5.091951\n",
       "min          0.074700\n",
       "25%          2.101000\n",
       "50%          4.314500\n",
       "75%         10.396650\n",
       "max         24.651000\n",
       "Name: vl_taxa_juros_mes, dtype: float64"
      ]
     },
     "execution_count": 8,
     "metadata": {},
     "output_type": "execute_result"
    }
   ],
   "source": [
    "df[df['ct_modalidade'] == 'Crédito pessoal não-consignado']['vl_taxa_juros_mes'].describe()"
   ]
  },
  {
   "cell_type": "code",
   "execution_count": 10,
   "metadata": {},
   "outputs": [
    {
     "data": {
      "text/plain": [
       "count    16600.000000\n",
       "mean         2.367386\n",
       "std          0.898916\n",
       "min          0.690700\n",
       "25%          1.676500\n",
       "50%          2.085800\n",
       "75%          2.811700\n",
       "max          5.900700\n",
       "Name: vl_taxa_juros_mes, dtype: float64"
      ]
     },
     "execution_count": 10,
     "metadata": {},
     "output_type": "execute_result"
    }
   ],
   "source": [
    "df[\n",
    "    (df['ct_modalidade'] == 'Crédito pessoal consignado privado') |\n",
    "    (df['ct_modalidade'] == 'Crédito pessoal consignado público')\n",
    "]['vl_taxa_juros_mes'].describe()"
   ]
  },
  {
   "cell_type": "code",
   "execution_count": 11,
   "metadata": {},
   "outputs": [
    {
     "data": {
      "text/plain": [
       "count    321.000000\n",
       "mean       0.819074\n",
       "std        0.351067\n",
       "min        0.000000\n",
       "25%        0.700700\n",
       "50%        0.821800\n",
       "75%        0.899200\n",
       "max        1.971500\n",
       "Name: vl_taxa_juros_mes, dtype: float64"
      ]
     },
     "execution_count": 11,
     "metadata": {},
     "output_type": "execute_result"
    }
   ],
   "source": [
    "df[\n",
    "    (df['ct_modalidade'] == 'Financiamento imobiliário com taxas de mercado') |\n",
    "    (df['ct_modalidade'] == 'Financiamento imobiliário com taxas reguladas')\n",
    "]['vl_taxa_juros_mes'].describe()"
   ]
  },
  {
   "cell_type": "code",
   "execution_count": 12,
   "metadata": {},
   "outputs": [
    {
     "data": {
      "text/plain": [
       "count    7520.000000\n",
       "mean        1.864123\n",
       "std         0.655067\n",
       "min         0.000000\n",
       "25%         1.430825\n",
       "50%         1.745600\n",
       "75%         2.108300\n",
       "max         4.344300\n",
       "Name: vl_taxa_juros_mes, dtype: float64"
      ]
     },
     "execution_count": 12,
     "metadata": {},
     "output_type": "execute_result"
    }
   ],
   "source": [
    "df[df['ct_modalidade'] == 'Aquisição de veículos']['vl_taxa_juros_mes'].describe()"
   ]
  }
 ],
 "metadata": {
  "kernelspec": {
   "display_name": "Python 3",
   "language": "python",
   "name": "python3"
  },
  "language_info": {
   "codemirror_mode": {
    "name": "ipython",
    "version": 3
   },
   "file_extension": ".py",
   "mimetype": "text/x-python",
   "name": "python",
   "nbconvert_exporter": "python",
   "pygments_lexer": "ipython3",
   "version": "3.12.7"
  }
 },
 "nbformat": 4,
 "nbformat_minor": 2
}
