{
 "cells": [
  {
   "cell_type": "markdown",
   "metadata": {},
   "source": [
    "### Env Config"
   ]
  },
  {
   "cell_type": "code",
   "execution_count": 1,
   "metadata": {},
   "outputs": [],
   "source": [
    "%%capture\n",
    "%pip install requests asyncio aiohttp pyarrow"
   ]
  },
  {
   "cell_type": "code",
   "execution_count": 2,
   "metadata": {},
   "outputs": [],
   "source": [
    "import io, requests, os, asyncio, aiohttp\n",
    "import pandas as pd\n",
    "import pyarrow as pa"
   ]
  },
  {
   "cell_type": "code",
   "execution_count": 3,
   "metadata": {},
   "outputs": [],
   "source": [
    "base_url = 'https://www.bcb.gov.br/api/servico/sitebcb'"
   ]
  },
  {
   "cell_type": "markdown",
   "metadata": {},
   "source": [
    "### Recuperando parâmetros para extração"
   ]
  },
  {
   "cell_type": "code",
   "execution_count": 4,
   "metadata": {},
   "outputs": [],
   "source": [
    "def get_parametros():\n",
    "    response = requests.get(f'{base_url}/HistoricoTaxaJurosDiario/ParametrosConsulta')\n",
    "    response.raise_for_status()\n",
    "    return response.json()"
   ]
  },
  {
   "cell_type": "code",
   "execution_count": 5,
   "metadata": {},
   "outputs": [],
   "source": [
    "parametros = get_parametros()\n",
    "df_parametros = pd.DataFrame(parametros['conteudo'])"
   ]
  },
  {
   "cell_type": "code",
   "execution_count": 6,
   "metadata": {},
   "outputs": [],
   "source": [
    "def get_datas():\n",
    "    response = requests.get(f'{base_url}/HistoricoTaxaJurosDiario/ConsultaDatas')\n",
    "    response.raise_for_status()\n",
    "    return response.json()"
   ]
  },
  {
   "cell_type": "code",
   "execution_count": 7,
   "metadata": {},
   "outputs": [],
   "source": [
    "datas = get_datas()\n",
    "df_datas = pd.DataFrame(datas['conteudo'])"
   ]
  },
  {
   "cell_type": "markdown",
   "metadata": {},
   "source": [
    "### Exportando para zona Raw"
   ]
  },
  {
   "cell_type": "code",
   "execution_count": 8,
   "metadata": {},
   "outputs": [],
   "source": [
    "async def get_hist_taxas(session, classificacao, modalidade, data):\n",
    "\turl = f\"{base_url}/historicotaxajurosdiario/TodosCampos?filtro=(codigoSegmento eq '{classificacao}') and (codigoModalidade eq '{modalidade}') and (InicioPeriodo eq '{data}')\"\n",
    "\n",
    "\tasync with session.get(url) as response:\n",
    "\t\treturn await response.json()"
   ]
  },
  {
   "cell_type": "code",
   "execution_count": null,
   "metadata": {},
   "outputs": [],
   "source": [
    "async def process_parametros(session, data, df_parametros):\n",
    "    tasks = []\n",
    "    for parametro in df_parametros.iterrows():\n",
    "        parametro = parametro[1]\n",
    "        codigoSegmento = parametro['codigoSegmento']\n",
    "        codigoModalidade = parametro['codigoModalidade']\n",
    "\n",
    "        if not os.path.exists(f'taxas_juros/raw/{data}/{codigoSegmento}-{codigoModalidade}'):\n",
    "            os.makedirs(f'taxas_juros/raw/{data}/{codigoSegmento}-{codigoModalidade}', exist_ok=True)\n",
    "        else:\n",
    "            continue\n",
    "\n",
    "        task = asyncio.create_task(fetch_and_save_hist_taxas(session, codigoSegmento, codigoModalidade, data))\n",
    "        tasks.append(task)\n",
    "\n",
    "    await asyncio.gather(*tasks)\n",
    "\n",
    "async def fetch_and_save_hist_taxas(session, codigoSegmento, codigoModalidade, data):\n",
    "    hist_taxas = await get_hist_taxas(session, codigoSegmento, codigoModalidade, data)\n",
    "\n",
    "    if len(hist_taxas['conteudo']) == 0:\n",
    "        return\n",
    "\n",
    "    with io.open(f'taxas_juros/raw/{data}/{codigoSegmento}-{codigoModalidade}/txjuros.json', 'w') as f:\n",
    "        f.write(str(hist_taxas))\n",
    "\n",
    "async def main(df_datas, df_parametros):\n",
    "    async with aiohttp.ClientSession() as session:\n",
    "        for data in df_datas['InicioPeriodo'][::-1]:\n",
    "            print(f'Recuperando arquivos de {data}...')\n",
    "            if not os.path.exists(f'taxas_juros/raw/{data}'):\n",
    "                os.makedirs(f'taxas_juros/raw/{data}', exist_ok=True)\n",
    "\n",
    "            await process_parametros(session, data, df_parametros)\n",
    "\n",
    "await main(df_datas, df_parametros)"
   ]
  },
  {
   "cell_type": "markdown",
   "metadata": {},
   "source": [
    "### Criando dataframe"
   ]
  },
  {
   "cell_type": "code",
   "execution_count": null,
   "metadata": {},
   "outputs": [],
   "source": [
    "dirs = os.listdir('taxas_juros/raw')\n",
    "dirs.sort()\n",
    "\n",
    "all_files = []\n",
    "\n",
    "for dir in dirs:\n",
    "\tfor root, _, files in os.walk(f'taxas_juros/raw/{dir}'):\n",
    "\t\tfor file in files:\n",
    "\t\t\tall_files.append(os.path.join(root, file))\n",
    "\n",
    "arrow_tables = []\n",
    "for file in all_files:\n",
    "\twith open(file, 'r') as f:\n",
    "\t\tprint(f'Lendo arquivo {file}')\n",
    "\t\tdata = eval(f.read())\n",
    "\t\tdf = pd.DataFrame(data['conteudo'])\n",
    "\t\ttable = pa.Table.from_pandas(df)\n",
    "\t\tarrow_tables.append(table)\n",
    "\n",
    "combined_table = pa.concat_tables(arrow_tables)\n",
    "\n",
    "df = combined_table.to_pandas()"
   ]
  },
  {
   "cell_type": "code",
   "execution_count": null,
   "metadata": {},
   "outputs": [],
   "source": [
    "df['InstituicaoFinanceira'].value_counts()"
   ]
  }
 ],
 "metadata": {
  "kernelspec": {
   "display_name": "Python 3",
   "language": "python",
   "name": "python3"
  },
  "language_info": {
   "codemirror_mode": {
    "name": "ipython",
    "version": 3
   },
   "file_extension": ".py",
   "mimetype": "text/x-python",
   "name": "python",
   "nbconvert_exporter": "python",
   "pygments_lexer": "ipython3",
   "version": "3.10.12"
  }
 },
 "nbformat": 4,
 "nbformat_minor": 2
}
