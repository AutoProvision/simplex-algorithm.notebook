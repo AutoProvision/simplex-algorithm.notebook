{
 "cells": [
  {
   "cell_type": "markdown",
   "metadata": {},
   "source": [
    "Maximizando o lucro de produção\n",
    "Problema\n",
    "\n",
    "A fábrica produz:\n",
    "\n",
    "    Produto A com lucro de $40 por unidade\n",
    "    Produto B com lucro de $30 por unidade\n",
    "\n",
    "A produção está limitada pelos seguintes recursos:\n",
    "\n",
    "    Matéria-prima disponível: 200 unidades\n",
    "    Tempo de máquina disponível: 180 horas\n",
    "\n",
    "Cada unidade de Produto A consome:\n",
    "\n",
    "    4 unidades de matéria-prima\n",
    "    2 horas de tempo de máquina\n",
    "\n",
    "Cada unidade de Produto B consome:\n",
    "\n",
    "    3 unidades de matéria-prima\n",
    "    1 hora de tempo de máquina\n",
    "\n",
    "O problema é determinar quantas unidades de cada produto devem ser produzidas para maximizar o lucro, respeitando as restrições de matéria-prima e tempo de máquina."
   ]
  },
  {
   "cell_type": "markdown",
   "metadata": {},
   "source": [
    "Variáveis de decisão:\n",
    "\n",
    "    x1x1​ = quantidade do Produto A a ser produzida\n",
    "    x2x2​ = quantidade do Produto B a ser produzida\n",
    "\n",
    "Função objetivo (maximizar o lucro):\n",
    "\n",
    "    Z=40x1+30x2\n",
    "    Z=40x1​+30x2​\n",
    "\n",
    "Restrições:\n",
    "\n",
    "    Restrição de matéria-prima:\n",
    "        4x1+3x2≤200\n",
    "        4x1​+3x2​≤200\n",
    "    Restrição de tempo de máquina:\n",
    "        2x1+x2≤180\n",
    "        2x1​+x2​≤180\n",
    "    Restrição de não-negatividade (não podemos produzir quantidades negativas):\n",
    "        x1≥0,x2≥0\n",
    "        x1​≥0,x2​≥0"
   ]
  },
  {
   "cell_type": "markdown",
   "metadata": {},
   "source": [
    "Colocamos o problema em forma de tableau simplex (essa é a forma de organizar o problema em uma tabela).\n",
    "Utilizamos o algoritmo simplex para mover entre os vértices da região viável, até encontrar o ponto ótimo."
   ]
  },
  {
   "cell_type": "code",
   "execution_count": 10,
   "metadata": {},
   "outputs": [],
   "source": [
    "from pulp import *"
   ]
  },
  {
   "cell_type": "code",
   "execution_count": 11,
   "metadata": {},
   "outputs": [],
   "source": [
    "# Definir o problema como maximização\n",
    "model = LpProblem(name=\"maximizar-lucro\", sense=LpMaximize)\n",
    "\n",
    "# Definir as variáveis de decisão\n",
    "x1 = LpVariable(name=\"Produto_A\", lowBound=0)\n",
    "x2 = LpVariable(name=\"Produto_B\", lowBound=0)\n",
    "\n",
    "# Função objetivo\n",
    "model += 40 * x1 + 30 * x2, \"Lucro total\"\n",
    "\n",
    "# Restrições\n",
    "model += (4 * x1 + 3 * x2 <= 200), \"Restrição de matéria-prima\"\n",
    "model += (2 * x1 + x2 <= 180), \"Restrição de tempo de máquina\""
   ]
  },
  {
   "cell_type": "code",
   "execution_count": 12,
   "metadata": {},
   "outputs": [
    {
     "name": "stdout",
     "output_type": "stream",
     "text": [
      "Welcome to the CBC MILP Solver \n",
      "Version: 2.10.3 \n",
      "Build Date: Dec 15 2019 \n",
      "\n",
      "command line - /home/consultor/.asdf/installs/python/3.12.7/lib/python3.12/site-packages/pulp/solverdir/cbc/linux/64/cbc /tmp/d076c815714c4eee822ef34862abc90c-pulp.mps -max -timeMode elapsed -branch -printingOptions all -solution /tmp/d076c815714c4eee822ef34862abc90c-pulp.sol (default strategy 1)\n",
      "At line 2 NAME          MODEL\n",
      "At line 3 ROWS\n",
      "At line 7 COLUMNS\n",
      "At line 14 RHS\n",
      "At line 17 BOUNDS\n",
      "At line 18 ENDATA\n",
      "Problem MODEL has 2 rows, 2 columns and 4 elements\n",
      "Coin0008I MODEL read with 0 errors\n",
      "Option for timeMode changed from cpu to elapsed\n",
      "Presolve 1 (-1) rows, 2 (0) columns and 2 (-2) elements\n",
      "0  Obj -0 Primal inf 49.999999 (1) Dual inf 79.999998 (2)\n",
      "2  Obj 2000\n",
      "Optimal - objective value 2000\n",
      "After Postsolve, objective 2000, infeasibilities - dual 0 (0), primal 0 (0)\n",
      "Optimal objective 2000 - 2 iterations time 0.002, Presolve 0.00\n",
      "Option for printingOptions changed from normal to all\n",
      "Total time (CPU seconds):       0.00   (Wallclock seconds):       0.00\n",
      "\n"
     ]
    },
    {
     "data": {
      "text/plain": [
       "1"
      ]
     },
     "execution_count": 12,
     "metadata": {},
     "output_type": "execute_result"
    }
   ],
   "source": [
    "model.solve()"
   ]
  },
  {
   "cell_type": "code",
   "execution_count": 13,
   "metadata": {},
   "outputs": [
    {
     "name": "stdout",
     "output_type": "stream",
     "text": [
      "Quantidade de Produto A a ser produzida: 0.0\n",
      "Quantidade de Produto B a ser produzida: 66.666667\n",
      "Lucro máximo: 2000.0000100000002\n"
     ]
    }
   ],
   "source": [
    "print(f\"Quantidade de Produto A a ser produzida: {x1.varValue}\")\n",
    "print(f\"Quantidade de Produto B a ser produzida: {x2.varValue}\")\n",
    "print(f\"Lucro máximo: {model.objective.value()}\")"
   ]
  }
 ],
 "metadata": {
  "kernelspec": {
   "display_name": "Python 3",
   "language": "python",
   "name": "python3"
  },
  "language_info": {
   "codemirror_mode": {
    "name": "ipython",
    "version": 3
   },
   "file_extension": ".py",
   "mimetype": "text/x-python",
   "name": "python",
   "nbconvert_exporter": "python",
   "pygments_lexer": "ipython3",
   "version": "3.12.7"
  }
 },
 "nbformat": 4,
 "nbformat_minor": 2
}
