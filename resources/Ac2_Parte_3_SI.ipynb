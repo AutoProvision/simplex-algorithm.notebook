{
  "nbformat": 4,
  "nbformat_minor": 0,
  "metadata": {
    "colab": {
      "private_outputs": true,
      "provenance": []
    },
    "kernelspec": {
      "name": "python3",
      "display_name": "Python 3"
    },
    "language_info": {
      "name": "python"
    }
  },
  "cells": [
    {
      "cell_type": "code",
      "source": [
        "!pip install pulp\n",
        "from pulp import *\n",
        "import matplotlib.pyplot as plt\n",
        "import numpy as np\n",
        "!pip install pulp\n",
        "\n",
        "# Definindo o problema de programação linear\n",
        "prob = LpProblem(\"Otimização_Lambdas\", LpMinimize)\n",
        "\n",
        "# Definindo as variáveis de decisão\n",
        "Lambda1 = LpVariable(\"Lambda1\", 0, None)\n",
        "Lambda2 = LpVariable(\"Lambda2\", 0, None)\n",
        "\n",
        "# Definindo a função objetivo (minimizar o custo)\n",
        "# Supondo que o custo da lambda1 seja R$ 2 por invocação e de lambda2 R$3 por invocação\n",
        "# Supondo que a memoria utilizada é de no máximo 512 MB durante 14 minutos cada função lambda fazer uma chamada aos dados de URLs externas\n",
        "prob += 2*Lambda1 + 3*Lambda2, \"Custo Total\"\n",
        "\n",
        "# Adicionando as restrições\n",
        "# Supondo que a lambda1 é invocada 10 vezes para a URLA  e 5 para a URLB\n",
        "# E a lambda2  é invocada 5 vezes para a URLA e 10 para a URLB\n",
        "# Precisamos de no mínimo 50 chamadas para a URLA e 40 chamadas para a URLB\n",
        "prob += 10*Lambda1 + 5*Lambda2 >= 50, \"URLA\"\n",
        "prob += 5*Lambda1 + 10*Lambda2 >= 40, \"URLC\"\n",
        "\n",
        "# Resolvendo o problema\n",
        "prob.solve()\n",
        "\n",
        "# Imprimindo a solução\n",
        "print(\"Status:\", LpStatus[prob.status])\n",
        "for v in prob.variables():\n",
        "    print(v.name, \"=\", v.varValue)\n",
        "\n",
        "print(\"Custo mínimo:\", value(prob.objective))\n",
        "\n",
        "# Visualizando a região viável\n",
        "# Criando uma grade de pontos para plotar as restrições\n",
        "x = np.linspace(0, 20, 100)\n",
        "y = np.linspace(0, 20, 100)\n",
        "X, Y = np.meshgrid(x, y)\n",
        "\n",
        "# Avaliar as restrições em cada ponto da grade\n",
        "Z1 = 10*X + 5*Y - 50  # Restrição de URLA\n",
        "Z2 = 5*X + 10*Y - 40  # Restrição de URLB\n",
        "\n",
        "# Plotar as restrições e a região viável\n",
        "plt.contour(X, Y, Z1, levels=[0], colors='blue', label='URLA')\n",
        "plt.contour(X, Y, Z2, levels=[0], colors='green', label='URLB')\n",
        "\n",
        "# Plotar a solução ótima\n",
        "plt.scatter(Lambda1.varValue, Lambda2.varValue, color='red', marker='x', label='Solução Ótima')\n",
        "\n",
        "# Preenchendo a região viável abaixo da solução ótima\n",
        "# Criar uma máscara booleana para os pontos na região viável abaixo da solução ótima\n",
        "mask = (Z1 >= 0) & (Z2 >= 0) & (Y <= Lambda2.varValue + (Lambda2.varValue - Lambda1.varValue) * (X - Lambda1.varValue) / (Lambda1.varValue))\n",
        "\n",
        "# Preencher a região viável definida pela máscara\n",
        "plt.fill_between(x, 0, 20, where=mask[0,:], color='gray', alpha=0.2)\n",
        "\n",
        "plt.xlabel('Lambda1')\n",
        "plt.ylabel('Lambda2')\n",
        "plt.title('Região Viável do Problema da Otimização Lambdas')\n",
        "plt.legend()\n",
        "plt.show()\n"
      ],
      "metadata": {
        "id": "LH10f0NapCto"
      },
      "execution_count": null,
      "outputs": []
    },
    {
      "cell_type": "code",
      "source": [
        "import matplotlib.pyplot as plt\n",
        "import numpy as np\n",
        "\n",
        "# Definindo as equações das retas\n",
        "x = np.linspace(0, 10, 100)  # Intervalo para x (ajuste conforme necessário)\n",
        "y1 = (50 - 10*x) / 5  # Equação da reta para URLA (10x + 5y >= 50)\n",
        "y2 = (40 - 5*x) / 10  # Equação da reta para URLB (5x + 10y >= 40)\n",
        "\n",
        "# Plotando as retas\n",
        "plt.plot(x, y1, label='URL A (10x + 5y >= 50)', color='blue')\n",
        "plt.plot(x, y2, label='URL B (5x + 10y >= 40)', color='green')\n",
        "\n",
        "# Preenchendo a área abaixo da interceptação das retas\n",
        "plt.fill_between(x, 0, np.minimum(y1, y2), where=(y1 >= 0) & (y2 >= 0), color='gray', alpha=0.2)\n",
        "\n",
        "# Configurando o gráfico\n",
        "plt.xlabel('Lambda1')\n",
        "plt.ylabel('Lambda2')\n",
        "plt.title('Região Viável do Problema da Otimização das Lambdas')\n",
        "plt.grid(True)  # Adicionando linhas de grade\n",
        "plt.xlim(0, 10)  # Limite do eixo x (somente valores positivos)\n",
        "plt.ylim(0, 10)  # Limite do eixo y (somente valores positivos)\n",
        "plt.legend()\n",
        "plt.show()\n"
      ],
      "metadata": {
        "id": "FPnCpsC_uY6i"
      },
      "execution_count": null,
      "outputs": []
    }
  ]
}