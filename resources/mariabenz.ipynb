{
  "cells": [
    {
      "cell_type": "markdown",
      "metadata": {
        "id": "RnVBkvDUgwWx"
      },
      "source": [
        "A Maria Benz produz carros de passeio para o mercado local e para exportação para vários países. O primeiro estágio do processo de produção é fabricar os monoblocos, que são então disponibilizados para a linha de produção para montagem de outras peças. A Maria Benz quer programar a produção para os próximos três meses. As demandas estimadas, a capacidade de produção e o custo unitário de produção para cada um dos meses em questão são ilustrados na tabela a seguir.\n",
        "\n",
        "Tabela de dados\n",
        "![tabelinha1po.png](data:image/png;base64,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)\n",
        "\n",
        "\n",
        "Devido a variações na capacidade de produção e no custo de fabricação entre meses, a empresa pode produzir alguns monoblocos um mês ou mais antes de serem programados. A desvantagem é que tais monoblocos precisam ser armazenados até o mês em que serão consumidos, a um custo unitário de armazenamento de $ 200,00/mês. O gerente de produção quer saber quantos monoblocos devem ser produzidos a cada mês para atender à demanda com o menor custo possível de produção e armazenamento. Modele esse problema como um problema de transporte e resolva-o usando o Solver.\n",
        "\n",
        "Objetivo\n",
        "Exemplo simples de aplicação de pesquisa operacional. O objetivo do problema é minimizar o custo de produção."
      ]
    },
    {
      "cell_type": "markdown",
      "metadata": {
        "id": "xklYi0toiEli"
      },
      "source": [
        "Intalar a biblioteca Optimization with PuLP"
      ]
    },
    {
      "cell_type": "code",
      "execution_count": 1,
      "metadata": {
        "id": "D9o0jYbjgNls"
      },
      "outputs": [
        {
          "name": "stdout",
          "output_type": "stream",
          "text": [
            "Requirement already satisfied: pulp in /home/consultor/.asdf/installs/python/3.12.7/lib/python3.12/site-packages (2.9.0)\n",
            "Note: you may need to restart the kernel to use updated packages.\n"
          ]
        }
      ],
      "source": [
        "%pip install pulp"
      ]
    },
    {
      "cell_type": "code",
      "execution_count": 2,
      "metadata": {
        "id": "P3U01gehiNNM"
      },
      "outputs": [],
      "source": [
        "from pulp import *"
      ]
    },
    {
      "cell_type": "markdown",
      "metadata": {
        "id": "k-dkHyOqiRx3"
      },
      "source": [
        "Vamos definir o Problema"
      ]
    },
    {
      "cell_type": "code",
      "execution_count": 3,
      "metadata": {
        "id": "iSsTOMy6iVyn"
      },
      "outputs": [],
      "source": [
        "problema1 = LpProblem('Producao_Monobloco', LpMinimize)"
      ]
    },
    {
      "cell_type": "markdown",
      "metadata": {
        "id": "L8ppqmMii03T"
      },
      "source": [
        "Definir as variáveis do problema"
      ]
    },
    {
      "cell_type": "code",
      "execution_count": 4,
      "metadata": {
        "id": "teAPLXZRi7Ef"
      },
      "outputs": [],
      "source": [
        "x11 = LpVariable('x11',lowBound = 0)\n",
        "x12 = LpVariable('x12',lowBound = 0)\n",
        "x13 = LpVariable('x13',lowBound = 0)\n",
        "x22 = LpVariable('x22',lowBound = 0)\n",
        "x23 = LpVariable('x23',lowBound = 0)\n",
        "x33 = LpVariable('x33',lowBound = 0)"
      ]
    },
    {
      "cell_type": "markdown",
      "metadata": {
        "id": "9z1JHOmmjn2o"
      },
      "source": [
        "Quantos monoblocos serão produzidos a cada mês?"
      ]
    },
    {
      "cell_type": "markdown",
      "metadata": {
        "id": "LMOcpnUCj0AA"
      },
      "source": [
        "Definir a função objetivo, está relacionado ao custo definido incialmente"
      ]
    },
    {
      "cell_type": "code",
      "execution_count": 5,
      "metadata": {
        "id": "i0svxf8VkIGq"
      },
      "outputs": [],
      "source": [
        "problema1 += 3000*x11 + 3200*x12 + 3400*x13 + 3000*x22 + 3200*x23 + 3200*x33"
      ]
    },
    {
      "cell_type": "markdown",
      "metadata": {
        "id": "FKqGSM1wkmD1"
      },
      "source": [
        "Definir as restrições"
      ]
    },
    {
      "cell_type": "code",
      "execution_count": 6,
      "metadata": {
        "id": "liO0Ppd7kpfm"
      },
      "outputs": [],
      "source": [
        "problema1 += x11 + x12 + x13 <= 2500\n",
        "problema1 += x22 + x23 <= 2500\n",
        "problema1 += x33 <= 2000\n",
        "problema1 += x11 == 1000\n",
        "problema1 += x12 + x22 == 2000\n",
        "problema1 += x13 + x23 + x33 == 3000\n"
      ]
    },
    {
      "cell_type": "code",
      "execution_count": 7,
      "metadata": {
        "id": "vK0QhS1Klzor"
      },
      "outputs": [
        {
          "data": {
            "text/plain": [
              "Producao_Monobloco:\n",
              "MINIMIZE\n",
              "3000*x11 + 3200*x12 + 3400*x13 + 3000*x22 + 3200*x23 + 3200*x33 + 0\n",
              "SUBJECT TO\n",
              "_C1: x11 + x12 + x13 <= 2500\n",
              "\n",
              "_C2: x22 + x23 <= 2500\n",
              "\n",
              "_C3: x33 <= 2000\n",
              "\n",
              "_C4: x11 = 1000\n",
              "\n",
              "_C5: x12 + x22 = 2000\n",
              "\n",
              "_C6: x13 + x23 + x33 = 3000\n",
              "\n",
              "VARIABLES\n",
              "x11 Continuous\n",
              "x12 Continuous\n",
              "x13 Continuous\n",
              "x22 Continuous\n",
              "x23 Continuous\n",
              "x33 Continuous"
            ]
          },
          "execution_count": 7,
          "metadata": {},
          "output_type": "execute_result"
        }
      ],
      "source": [
        "problema1"
      ]
    },
    {
      "cell_type": "code",
      "execution_count": 8,
      "metadata": {
        "id": "84toCfJJl4iz"
      },
      "outputs": [
        {
          "name": "stdout",
          "output_type": "stream",
          "text": [
            "Welcome to the CBC MILP Solver \n",
            "Version: 2.10.3 \n",
            "Build Date: Dec 15 2019 \n",
            "\n",
            "command line - /home/consultor/.asdf/installs/python/3.12.7/lib/python3.12/site-packages/pulp/solverdir/cbc/linux/64/cbc /tmp/ee9774b436a0421cb21aeae207118b20-pulp.mps -timeMode elapsed -branch -printingOptions all -solution /tmp/ee9774b436a0421cb21aeae207118b20-pulp.sol (default strategy 1)\n",
            "At line 2 NAME          MODEL\n",
            "At line 3 ROWS\n",
            "At line 11 COLUMNS\n",
            "At line 30 RHS\n",
            "At line 37 BOUNDS\n",
            "At line 38 ENDATA\n",
            "Problem MODEL has 6 rows, 6 columns and 12 elements\n",
            "Coin0008I MODEL read with 0 errors\n",
            "Option for timeMode changed from cpu to elapsed\n",
            "Presolve 3 (-3) rows, 4 (-2) columns and 7 (-5) elements\n",
            "0  Obj 9000000 Primal inf 3000 (1)\n",
            "3  Obj 18700000\n",
            "Optimal - objective value 18700000\n",
            "After Postsolve, objective 18700000, infeasibilities - dual 0 (0), primal 0 (0)\n",
            "Optimal objective 18700000 - 3 iterations time 0.002, Presolve 0.00\n",
            "Option for printingOptions changed from normal to all\n",
            "Total time (CPU seconds):       0.00   (Wallclock seconds):       0.00\n",
            "\n"
          ]
        },
        {
          "data": {
            "text/plain": [
              "1"
            ]
          },
          "execution_count": 8,
          "metadata": {},
          "output_type": "execute_result"
        }
      ],
      "source": [
        "problema1.solve()"
      ]
    },
    {
      "cell_type": "code",
      "execution_count": 9,
      "metadata": {
        "id": "IL1tMYtTmCG4"
      },
      "outputs": [
        {
          "name": "stdout",
          "output_type": "stream",
          "text": [
            "x11 = 1000.0\n",
            "x12 = 500.0\n",
            "x13 = 0.0\n",
            "x22 = 1500.0\n",
            "x23 = 1000.0\n",
            "x33 = 2000.0\n"
          ]
        }
      ],
      "source": [
        "for v in problema1.variables():\n",
        "    print(v.name, \"=\", v.varValue)"
      ]
    },
    {
      "cell_type": "code",
      "execution_count": 10,
      "metadata": {
        "id": "GavbN7XNmbDM"
      },
      "outputs": [
        {
          "name": "stdout",
          "output_type": "stream",
          "text": [
            "custo total = \n"
          ]
        },
        {
          "data": {
            "text/plain": [
              "(None, 18700000.0)"
            ]
          },
          "execution_count": 10,
          "metadata": {},
          "output_type": "execute_result"
        }
      ],
      "source": [
        "print('custo total = '), value(problema1.objective)"
      ]
    }
  ],
  "metadata": {
    "colab": {
      "private_outputs": true,
      "provenance": []
    },
    "kernelspec": {
      "display_name": "Python 3",
      "name": "python3"
    },
    "language_info": {
      "codemirror_mode": {
        "name": "ipython",
        "version": 3
      },
      "file_extension": ".py",
      "mimetype": "text/x-python",
      "name": "python",
      "nbconvert_exporter": "python",
      "pygments_lexer": "ipython3",
      "version": "3.12.7"
    }
  },
  "nbformat": 4,
  "nbformat_minor": 0
}
