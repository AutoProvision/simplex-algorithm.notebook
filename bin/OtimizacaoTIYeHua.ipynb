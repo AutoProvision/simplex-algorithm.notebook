{
  "cells": [
    {
      "cell_type": "code",
      "execution_count": 7,
      "metadata": {},
      "outputs": [],
      "source": [
        "from pulp import *"
      ]
    },
    {
      "cell_type": "markdown",
      "metadata": {},
      "source": [
        "# CENÁRIO 1"
      ]
    },
    {
      "cell_type": "code",
      "execution_count": 5,
      "metadata": {},
      "outputs": [
        {
          "name": "stdout",
          "output_type": "stream",
          "text": [
            "x11 = 12500.0\n",
            "x12 = 20000.0\n",
            "x13 = 0.0\n",
            "x22 = 35000.0\n",
            "x23 = 5000.0\n",
            "x33 = 40000.0\n",
            "custo adicional = 0\n"
          ]
        }
      ],
      "source": [
        "max_production = 120000\n",
        "problema1 = LpProblem('Minimizacao_custo_adicional', LpMaximize)\n",
        "\n",
        "x11 = LpVariable('x11',lowBound = 0)\n",
        "x12 = LpVariable('x12',lowBound = 0)\n",
        "x13 = LpVariable('x13',lowBound = 0)\n",
        "x22 = LpVariable('x22',lowBound = 0)\n",
        "x23 = LpVariable('x23',lowBound = 0)\n",
        "x33 = LpVariable('x33',lowBound = 0)\n",
        "\n",
        "# Função objetivo: minimizar o custo total adicional\n",
        "problema1 += ((x11 + x12 + x13 + x22 + x23 + x33) - max_production) * 0.003\n",
        "\n",
        "problema1 += x11 + x12 + x13 <= 40000\n",
        "problema1 += x22 + x23 <= 40000\n",
        "problema1 += x33 <= 40000\n",
        "problema1 += x11 == 12500\n",
        "problema1 += x12 + x22 == 55000\n",
        "problema1 += x13 + x23 + x33 == 45000\n",
        "\n",
        "problema1.solve()\n",
        "\n",
        "for v in problema1.variables():\n",
        "    print(v.name, \"=\", v.varValue)\n",
        "\n",
        "custo_adicional = value(problema1.objective)\n",
        "\n",
        "print(f'custo adicional = {custo_adicional if custo_adicional >= 0 else 0}')"
      ]
    },
    {
      "cell_type": "markdown",
      "metadata": {},
      "source": [
        "# CENÁRIO 2"
      ]
    },
    {
      "cell_type": "code",
      "execution_count": 6,
      "metadata": {},
      "outputs": [
        {
          "name": "stdout",
          "output_type": "stream",
          "text": [
            "x11 = 15500.0\n",
            "x12 = 35000.0\n",
            "x13 = 29500.0\n",
            "x22 = 0.0\n",
            "x23 = 140500.0\n",
            "x33 = 80000.0\n",
            "custo adicional = 181.5\n"
          ]
        }
      ],
      "source": [
        "max_production = 240000\n",
        "problema1 = LpProblem('Minimizacao_custo_adicional', LpMaximize)\n",
        "\n",
        "x11 = LpVariable('x11',lowBound = 0)\n",
        "x12 = LpVariable('x12',lowBound = 0)\n",
        "x13 = LpVariable('x13',lowBound = 0)\n",
        "x22 = LpVariable('x22',lowBound = 0)\n",
        "x23 = LpVariable('x23',lowBound = 0)\n",
        "x33 = LpVariable('x33',lowBound = 0)\n",
        "\n",
        "# Função objetivo: minimizar o custo total adicional\n",
        "problema1 += ((x11 + x12 + x13 + x22 + x23 + x33) - max_production) * 0.003\n",
        "\n",
        "problema1 += x11 + x12 + x13 <= 80000\n",
        "problema1 += x22 + x23 <= 80000\n",
        "problema1 += x33 <= 80000\n",
        "problema1 += x11 == 15500\n",
        "problema1 += x12 + x22 == 35000\n",
        "problema1 += x13 + x23 + x33 == 250000\n",
        "\n",
        "problema1.solve()\n",
        "\n",
        "for v in problema1.variables():\n",
        "    print(v.name, \"=\", v.varValue)\n",
        "\n",
        "custo_adicional = value(problema1.objective)\n",
        "\n",
        "print(f'custo adicional = {custo_adicional if custo_adicional >= 0 else 0}')"
      ]
    }
  ],
  "metadata": {
    "colab": {
      "private_outputs": true,
      "provenance": []
    },
    "kernelspec": {
      "display_name": "Python 3",
      "name": "python3"
    },
    "language_info": {
      "codemirror_mode": {
        "name": "ipython",
        "version": 3
      },
      "file_extension": ".py",
      "mimetype": "text/x-python",
      "name": "python",
      "nbconvert_exporter": "python",
      "pygments_lexer": "ipython3",
      "version": "3.10.12"
    }
  },
  "nbformat": 4,
  "nbformat_minor": 0
}
