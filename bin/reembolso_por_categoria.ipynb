{
 "cells": [
  {
   "cell_type": "code",
   "execution_count": 2,
   "metadata": {},
   "outputs": [
    {
     "name": "stderr",
     "output_type": "stream",
     "text": [
      "3207.05s - pydevd: Sending message related to process being replaced timed-out after 5 seconds\n"
     ]
    },
    {
     "name": "stdout",
     "output_type": "stream",
     "text": [
      "Defaulting to user installation because normal site-packages is not writeable\n",
      "Requirement already satisfied: pulp in /home/consultor/.local/lib/python3.10/site-packages (2.9.0)\n",
      "Note: you may need to restart the kernel to use updated packages.\n"
     ]
    }
   ],
   "source": [
    "%pip install pulp\n",
    "from pulp import *"
   ]
  },
  {
   "cell_type": "code",
   "execution_count": 3,
   "metadata": {},
   "outputs": [],
   "source": [
    "prob = LpProblem(\"Minimizar_Tempo_Reembolso\", LpMinimize)\n",
    "x1 = LpVariable(\"CLT\", lowBound=0)\n",
    "x2 = LpVariable(\"PJ\", lowBound=0)\n",
    "x3 = LpVariable(\"Aposentados\", lowBound=0)\n",
    "x4 = LpVariable(\"Pensionistas\", lowBound=0)"
   ]
  },
  {
   "cell_type": "code",
   "execution_count": 4,
   "metadata": {},
   "outputs": [],
   "source": [
    "prob += 20 * x1 + 15 * x2 + 10 * x3 + 8 * x4, \"Tempo_Total\""
   ]
  },
  {
   "cell_type": "code",
   "execution_count": 5,
   "metadata": {},
   "outputs": [],
   "source": [
    "prob += x1 + x2 + x3 + x4 <= 1_000_000, \"Orçamento_Disponível\"\n",
    "prob += 0.05 * x1 + 0.10 * x2 + 0.07 * x3 + 0.04 * x4 <= 50_000, \"Risco_Total\""
   ]
  },
  {
   "cell_type": "code",
   "execution_count": 6,
   "metadata": {},
   "outputs": [
    {
     "name": "stdout",
     "output_type": "stream",
     "text": [
      "Welcome to the CBC MILP Solver \n",
      "Version: 2.10.3 \n",
      "Build Date: Dec 15 2019 \n",
      "\n",
      "command line - /home/consultor/.local/lib/python3.10/site-packages/pulp/solverdir/cbc/linux/64/cbc /tmp/5e25037723d74ef68a3806590b5516e1-pulp.mps -timeMode elapsed -branch -printingOptions all -solution /tmp/5e25037723d74ef68a3806590b5516e1-pulp.sol (default strategy 1)\n",
      "At line 2 NAME          MODEL\n",
      "At line 3 ROWS\n",
      "At line 7 COLUMNS\n",
      "At line 20 RHS\n",
      "At line 23 BOUNDS\n",
      "At line 24 ENDATA\n",
      "Problem MODEL has 2 rows, 4 columns and 8 elements\n",
      "Coin0008I MODEL read with 0 errors\n",
      "Option for timeMode changed from cpu to elapsed\n",
      "Presolve 0 (-2) rows, 0 (-4) columns and 0 (-8) elements\n",
      "Empty problem - 0 rows, 0 columns and 0 elements\n",
      "Optimal - objective value 0\n",
      "After Postsolve, objective 0, infeasibilities - dual 0 (0), primal 0 (0)\n",
      "Optimal objective 0 - 0 iterations time 0.002, Presolve 0.00\n",
      "Option for printingOptions changed from normal to all\n",
      "Total time (CPU seconds):       0.00   (Wallclock seconds):       0.00\n",
      "\n"
     ]
    },
    {
     "data": {
      "text/plain": [
       "1"
      ]
     },
     "execution_count": 6,
     "metadata": {},
     "output_type": "execute_result"
    }
   ],
   "source": [
    "prob.solve()"
   ]
  },
  {
   "cell_type": "code",
   "execution_count": 7,
   "metadata": {},
   "outputs": [
    {
     "name": "stdout",
     "output_type": "stream",
     "text": [
      "Status: 1\n",
      "Valor emprestado para CLT: 0.0\n",
      "Valor emprestado para PJ: 0.0\n",
      "Valor emprestado para Aposentados: 0.0\n",
      "Valor emprestado para Pensionistas: 0.0\n",
      "Tempo total de reembolso minimizado: 0.0\n"
     ]
    }
   ],
   "source": [
    "print(\"Status:\", prob.status)\n",
    "print(\"Valor emprestado para CLT:\", value(x1))\n",
    "print(\"Valor emprestado para PJ:\", value(x2))\n",
    "print(\"Valor emprestado para Aposentados:\", value(x3))\n",
    "print(\"Valor emprestado para Pensionistas:\", value(x4))\n",
    "print(\"Tempo total de reembolso minimizado:\", value(prob.objective))"
   ]
  }
 ],
 "metadata": {
  "kernelspec": {
   "display_name": "Python 3",
   "language": "python",
   "name": "python3"
  },
  "language_info": {
   "codemirror_mode": {
    "name": "ipython",
    "version": 3
   },
   "file_extension": ".py",
   "mimetype": "text/x-python",
   "name": "python",
   "nbconvert_exporter": "python",
   "pygments_lexer": "ipython3",
   "version": "3.10.12"
  }
 },
 "nbformat": 4,
 "nbformat_minor": 2
}
