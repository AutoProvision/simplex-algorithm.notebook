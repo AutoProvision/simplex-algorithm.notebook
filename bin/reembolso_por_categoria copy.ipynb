{
 "cells": [
  {
   "cell_type": "code",
   "execution_count": 2,
   "metadata": {},
   "outputs": [
    {
     "name": "stdout",
     "output_type": "stream",
     "text": [
      "Welcome to the CBC MILP Solver \n",
      "Version: 2.10.3 \n",
      "Build Date: Dec 15 2019 \n",
      "\n",
      "command line - /home/consultor/.local/lib/python3.10/site-packages/pulp/solverdir/cbc/linux/64/cbc /tmp/f452f00755384d9b97703aa856b168d3-pulp.mps -timeMode elapsed -branch -printingOptions all -solution /tmp/f452f00755384d9b97703aa856b168d3-pulp.sol (default strategy 1)\n",
      "At line 2 NAME          MODEL\n",
      "At line 3 ROWS\n",
      "At line 7 COLUMNS\n",
      "At line 20 RHS\n",
      "At line 23 BOUNDS\n",
      "At line 32 ENDATA\n",
      "Problem MODEL has 2 rows, 4 columns and 8 elements\n",
      "Coin0008I MODEL read with 0 errors\n",
      "Option for timeMode changed from cpu to elapsed\n",
      "Presolve 0 (-2) rows, 0 (-4) columns and 0 (-8) elements\n",
      "Empty problem - 0 rows, 0 columns and 0 elements\n",
      "Optimal - objective value 3210000\n",
      "After Postsolve, objective 3210000, infeasibilities - dual 0 (0), primal 0 (0)\n",
      "Optimal objective 3210000 - 0 iterations time 0.002, Presolve 0.00\n",
      "Option for printingOptions changed from normal to all\n",
      "Total time (CPU seconds):       0.00   (Wallclock seconds):       0.00\n",
      "\n",
      "Status: 1\n",
      "Valor emprestado para CLT: 100000.0\n",
      "Valor emprestado para PJ: 50000.0\n",
      "Valor emprestado para Aposentados: 30000.0\n",
      "Valor emprestado para Pensionistas: 20000.0\n",
      "Tempo total de reembolso minimizado (meses): 3210000.0\n",
      "Tempo médio de reembolso (meses): 16.05\n"
     ]
    }
   ],
   "source": [
    "from pulp import LpProblem, LpMinimize, LpVariable, lpSum, value\n",
    "\n",
    "# Criação do problema de otimização\n",
    "prob = LpProblem(\"Minimizar_Tempo_Reembolso\", LpMinimize)\n",
    "\n",
    "# Definição das variáveis de decisão (com limites inferiores e superiores)\n",
    "x1 = LpVariable(\"CLT\", lowBound=100_000, upBound=500_000)  # Valor emprestado para CLT\n",
    "x2 = LpVariable(\"PJ\", lowBound=50_000, upBound=300_000)    # Valor emprestado para PJ\n",
    "x3 = LpVariable(\"Aposentados\", lowBound=30_000, upBound=200_000)  # Valor emprestado para aposentados\n",
    "x4 = LpVariable(\"Pensionistas\", lowBound=20_000, upBound=100_000) # Valor emprestado para pensionistas\n",
    "\n",
    "# Função objetivo (minimizar o tempo de reembolso)\n",
    "prob += 20 * x1 + 15 * x2 + 10 * x3 + 8 * x4, \"Tempo_Total\"\n",
    "\n",
    "# Restrições\n",
    "prob += x1 + x2 + x3 + x4 <= 1_000_000, \"Orçamento_Disponível\"\n",
    "prob += 0.05 * x1 + 0.10 * x2 + 0.07 * x3 + 0.04 * x4 <= 50_000, \"Risco_Total\"\n",
    "\n",
    "# Resolvendo o problema\n",
    "prob.solve()\n",
    "\n",
    "# Calculando o tempo médio de reembolso\n",
    "total_emp = value(x1 + x2 + x3 + x4)\n",
    "tempo_total = value(prob.objective)\n",
    "tempo_medio = tempo_total / total_emp if total_emp > 0 else 0\n",
    "\n",
    "# Exibindo os resultados\n",
    "print(\"Status:\", prob.status)\n",
    "print(\"Valor emprestado para CLT:\", value(x1))\n",
    "print(\"Valor emprestado para PJ:\", value(x2))\n",
    "print(\"Valor emprestado para Aposentados:\", value(x3))\n",
    "print(\"Valor emprestado para Pensionistas:\", value(x4))\n",
    "print(\"Tempo total de reembolso minimizado (meses):\", tempo_total)\n",
    "print(\"Tempo médio de reembolso (meses):\", tempo_medio)"
   ]
  }
 ],
 "metadata": {
  "kernelspec": {
   "display_name": "Python 3",
   "language": "python",
   "name": "python3"
  },
  "language_info": {
   "codemirror_mode": {
    "name": "ipython",
    "version": 3
   },
   "file_extension": ".py",
   "mimetype": "text/x-python",
   "name": "python",
   "nbconvert_exporter": "python",
   "pygments_lexer": "ipython3",
   "version": "3.10.12"
  }
 },
 "nbformat": 4,
 "nbformat_minor": 2
}
