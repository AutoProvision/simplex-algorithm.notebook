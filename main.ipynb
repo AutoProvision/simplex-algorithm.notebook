{
 "cells": [
  {
   "cell_type": "code",
   "execution_count": 89,
   "metadata": {},
   "outputs": [],
   "source": [
    "%%capture\n",
    "!pip install pulp\n",
    "!pip install matplotlib"
   ]
  },
  {
   "cell_type": "code",
   "execution_count": 90,
   "metadata": {},
   "outputs": [],
   "source": [
    "from pulp import *\n",
    "import matplotlib.pyplot as plt"
   ]
  },
  {
   "cell_type": "markdown",
   "metadata": {},
   "source": [
    "### Dados de entrada"
   ]
  },
  {
   "cell_type": "code",
   "execution_count": 91,
   "metadata": {},
   "outputs": [],
   "source": [
    "perfis = [\n",
    "\t{\n",
    "\t\t\"nome\": \"Aposentados\",\n",
    "\t\t\"propostas_recebidas\": 2000,\n",
    "\t\t\"taxa_inadimplencia\": 0.04,\n",
    "\t\t\"taxa_juros\": 0.015\n",
    "\t},\n",
    "\t{\n",
    "\t\t\"nome\": \"Pensionistas\",\n",
    "\t\t\"propostas_recebidas\": 1242,\n",
    "\t\t\"taxa_inadimplencia\": 0.11,\n",
    "\t\t\"taxa_juros\": 0.02\n",
    "\t},\n",
    "\t{\n",
    "\t\t\"nome\": \"PJ\",\n",
    "\t\t\"propostas_recebidas\": 3982,\n",
    "\t\t\"taxa_inadimplencia\": 0.06,\n",
    "\t\t\"taxa_juros\": 0.03\n",
    "\t},\n",
    "\t{\n",
    "\t\t\"nome\": \"CLT\",\n",
    "\t\t\"propostas_recebidas\": 218,\n",
    "\t\t\"taxa_inadimplencia\": 0.08,\n",
    "\t\t\"taxa_juros\": 0.025\n",
    "\t},\n",
    "\t{\n",
    "\t\t\"nome\": \"Funcionários internos\",\n",
    "\t\t\"propostas_recebidas\": 1802,\n",
    "\t\t\"taxa_inadimplencia\": 0.00,\n",
    "\t\t\"taxa_juros\": 0.01\n",
    "\t}\n",
    "]\n",
    "\n",
    "max_clientes = 5000"
   ]
  },
  {
   "cell_type": "markdown",
   "metadata": {},
   "source": [
    "### Definição das variáveis"
   ]
  },
  {
   "cell_type": "code",
   "execution_count": 92,
   "metadata": {},
   "outputs": [],
   "source": [
    "problema = LpProblem(\"Maximizar_Lucro\", LpMaximize)\n",
    "\n",
    "variaveis = LpVariable.dicts(\"Propostas\", [perfil[\"nome\"] for perfil in perfis], lowBound=0)"
   ]
  },
  {
   "cell_type": "markdown",
   "metadata": {},
   "source": [
    "### Aplicação do cálculo sobre as características de cada perfil"
   ]
  },
  {
   "cell_type": "code",
   "execution_count": 93,
   "metadata": {},
   "outputs": [],
   "source": [
    "problema += lpSum(\n",
    "    (1 - perfil[\"taxa_inadimplencia\"]) * perfil[\"taxa_juros\"] * variaveis[perfil[\"nome\"]]\n",
    "    for perfil in perfis\n",
    ")\n",
    "\n",
    "problema += lpSum(variaveis) <= max_clientes\n",
    "\n",
    "for perfil in perfis:\n",
    "    problema += variaveis[perfil[\"nome\"]] <= perfil[\"propostas_recebidas\"]"
   ]
  },
  {
   "cell_type": "code",
   "execution_count": null,
   "metadata": {},
   "outputs": [],
   "source": [
    "problema.solve()"
   ]
  },
  {
   "cell_type": "markdown",
   "metadata": {},
   "source": [
    "### Visualização dos resultados"
   ]
  },
  {
   "cell_type": "code",
   "execution_count": null,
   "metadata": {},
   "outputs": [],
   "source": [
    "for perfil in perfis:\n",
    "    print(f\"{perfil[\"nome\"]} = {variaveis[perfil[\"nome\"]].varValue}\")"
   ]
  },
  {
   "cell_type": "markdown",
   "metadata": {},
   "source": [
    "### Visualização gráfica"
   ]
  },
  {
   "cell_type": "code",
   "execution_count": null,
   "metadata": {},
   "outputs": [],
   "source": [
    "nomes_perfis = [perfil[\"nome\"] for perfil in perfis]\n",
    "propostas_aceitas = [variaveis[perfil[\"nome\"]].varValue for perfil in perfis]\n",
    "propostas_recebidas = [perfil[\"propostas_recebidas\"] for perfil in perfis]\n",
    "\n",
    "plt.figure(figsize=(10, 6))\n",
    "barWidth = 0.4\n",
    "r1 = range(len(nomes_perfis))\n",
    "r2 = [x + barWidth for x in r1]\n",
    "\n",
    "plt.bar(r1, propostas_aceitas, color='#7aff70', width=barWidth, label='Propostas Aceitas')\n",
    "plt.bar(r2, propostas_recebidas, color='#88f4fc', width=barWidth, label='Propostas Recebidas')\n",
    "\n",
    "plt.xlabel('Perfis de Clientes')\n",
    "plt.ylabel('Número de Propostas')\n",
    "plt.xticks([r + barWidth/2 for r in range(len(nomes_perfis))], nomes_perfis)\n",
    "plt.title('Número de Propostas Recebidas/Aceitas por Perfil')\n",
    "plt.legend()\n",
    "plt.show()"
   ]
  }
 ],
 "metadata": {
  "kernelspec": {
   "display_name": "Python 3",
   "language": "python",
   "name": "python3"
  },
  "language_info": {
   "codemirror_mode": {
    "name": "ipython",
    "version": 3
   },
   "file_extension": ".py",
   "mimetype": "text/x-python",
   "name": "python",
   "nbconvert_exporter": "python",
   "pygments_lexer": "ipython3",
   "version": "3.12.6"
  }
 },
 "nbformat": 4,
 "nbformat_minor": 2
}
