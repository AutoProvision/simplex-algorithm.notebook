{
 "cells": [
  {
   "cell_type": "code",
   "execution_count": 39,
   "metadata": {},
   "outputs": [
    {
     "name": "stdout",
     "output_type": "stream",
     "text": [
      "Defaulting to user installation because normal site-packages is not writeable\n",
      "Requirement already satisfied: pulp in c:\\users\\joaqu\\appdata\\local\\packages\\pythonsoftwarefoundation.python.3.12_qbz5n2kfra8p0\\localcache\\local-packages\\python312\\site-packages (2.9.0)\n"
     ]
    }
   ],
   "source": [
    "!pip install pulp"
   ]
  },
  {
   "cell_type": "code",
   "execution_count": 40,
   "metadata": {},
   "outputs": [],
   "source": [
    "from pulp import *"
   ]
  },
  {
   "cell_type": "code",
   "execution_count": 41,
   "metadata": {},
   "outputs": [],
   "source": [
    "perfis = [\n",
    "\t{\n",
    "\t\t\"nome\": \"Aposentados\",\n",
    "\t\t\"propostas_recebidas\": 2000,\n",
    "\t\t\"taxa_inadimplencia\": 0.04,\n",
    "\t\t\"taxa_juros\": 0.015\n",
    "\t},\n",
    "\t{\n",
    "\t\t\"nome\": \"Pensionistas\",\n",
    "\t\t\"propostas_recebidas\": 1242,\n",
    "\t\t\"taxa_inadimplencia\": 0.11,\n",
    "\t\t\"taxa_juros\": 0.02\n",
    "\t},\n",
    "\t{\n",
    "\t\t\"nome\": \"PJ\",\n",
    "\t\t\"propostas_recebidas\": 3982,\n",
    "\t\t\"taxa_inadimplencia\": 0.06,\n",
    "\t\t\"taxa_juros\": 0.03\n",
    "\t},\n",
    "\t{\n",
    "\t\t\"nome\": \"CLT\",\n",
    "\t\t\"propostas_recebidas\": 218,\n",
    "\t\t\"taxa_inadimplencia\": 0.08,\n",
    "\t\t\"taxa_juros\": 0.025\n",
    "\t},\n",
    "\t{\n",
    "\t\t\"nome\": \"Funcionários internos\",\n",
    "\t\t\"propostas_recebidas\": 1802,\n",
    "\t\t\"taxa_inadimplencia\": 0.00,\n",
    "\t\t\"taxa_juros\": 0.01\n",
    "\t}\n",
    "]\n",
    "\n",
    "max_clientes = 5000"
   ]
  },
  {
   "cell_type": "code",
   "execution_count": 42,
   "metadata": {},
   "outputs": [],
   "source": [
    "problema = LpProblem(\"Maximizar_Lucro\", LpMaximize)\n",
    "\n",
    "variaveis = LpVariable.dicts(\"Propostas\", [perfil[\"nome\"] for perfil in perfis], lowBound=0)"
   ]
  },
  {
   "cell_type": "code",
   "execution_count": 43,
   "metadata": {},
   "outputs": [],
   "source": [
    "problema += lpSum(\n",
    "    (1 - perfil[\"taxa_inadimplencia\"]) * perfil[\"taxa_juros\"] * variaveis[perfil[\"nome\"]]\n",
    "    for perfil in perfis\n",
    ")\n",
    "\n",
    "problema += lpSum(variaveis) <= max_clientes\n",
    "\n",
    "for perfil in perfis:\n",
    "    problema += variaveis[perfil[\"nome\"]] <= perfil[\"propostas_recebidas\"]"
   ]
  },
  {
   "cell_type": "code",
   "execution_count": 44,
   "metadata": {},
   "outputs": [
    {
     "name": "stdout",
     "output_type": "stream",
     "text": [
      "Aposentados = 0.0\n",
      "Pensionistas = 800.0\n",
      "PJ = 3982.0\n",
      "CLT = 218.0\n",
      "Funcionários internos = 0.0\n"
     ]
    }
   ],
   "source": [
    "problema.solve()\n",
    "\n",
    "for perfil in perfis:\n",
    "    print(f\"{perfil[\"nome\"]} = {variaveis[perfil[\"nome\"]].varValue}\")\n"
   ]
  }
 ],
 "metadata": {
  "kernelspec": {
   "display_name": "Python 3",
   "language": "python",
   "name": "python3"
  },
  "language_info": {
   "codemirror_mode": {
    "name": "ipython",
    "version": 3
   },
   "file_extension": ".py",
   "mimetype": "text/x-python",
   "name": "python",
   "nbconvert_exporter": "python",
   "pygments_lexer": "ipython3",
   "version": "3.12.6"
  }
 },
 "nbformat": 4,
 "nbformat_minor": 2
}
