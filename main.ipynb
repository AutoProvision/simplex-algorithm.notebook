{
 "cells": [
  {
   "cell_type": "code",
   "execution_count": 23,
   "metadata": {},
   "outputs": [],
   "source": [
    "%%capture\n",
    "%pip install pulp"
   ]
  },
  {
   "cell_type": "code",
   "execution_count": 24,
   "metadata": {},
   "outputs": [],
   "source": [
    "from pulp import *"
   ]
  },
  {
   "cell_type": "markdown",
   "metadata": {},
   "source": [
    "## Dados reais de algumas das modalidades mais comuns"
   ]
  },
  {
   "cell_type": "code",
   "execution_count": 25,
   "metadata": {},
   "outputs": [],
   "source": [
    "CLIENTES = [\n",
    "\t{\n",
    "\t\t'modalidade': 'Capital de giro',\n",
    "\t\t'propostas_recebidas': 2051,\n",
    "\t\t'taxa_inadimplencia': 0.17,\n",
    "\t\t'taxa_juros': 2.13,\n",
    "\t},\n",
    "\t{\n",
    "\t\t'modalidade': 'Cheque Especial',\n",
    "\t\t'propostas_recebidas': 2242,\n",
    "\t\t'taxa_inadimplencia': 0.60,\n",
    "\t\t'taxa_juros': 8.16,\n",
    "\t},\n",
    "\t{\n",
    "\t\t'modalidade': 'Crédito Pessoal',\n",
    "\t\t'propostas_recebidas': 1982,\n",
    "\t\t'taxa_inadimplencia': 0.36,\n",
    "\t\t'taxa_juros': 6.43,\n",
    "\t},\n",
    "\t{\n",
    "\t\t'modalidade': 'Crédito Pessoal Consignado',\n",
    "\t\t'propostas_recebidas': 218,\n",
    "\t\t'taxa_inadimplencia': 0.00,\n",
    "\t\t'taxa_juros': 2.36,\n",
    "\t},\n",
    "\t{\n",
    "\t\t'modalidade': 'Financiamento Imobiliário',\n",
    "\t\t'propostas_recebidas': 1802,\n",
    "\t\t'taxa_inadimplencia': 0.08,\n",
    "\t\t'taxa_juros': 0.81,\n",
    "\t},\n",
    "\t{\n",
    "\t\t'modalidade': 'Aquisição de veículos',\n",
    "\t\t'propostas_recebidas': 1802,\n",
    "\t\t'taxa_inadimplencia': 0.12,\n",
    "\t\t'taxa_juros': 1.86,\n",
    "\t},\n",
    "]"
   ]
  },
  {
   "cell_type": "markdown",
   "metadata": {},
   "source": [
    "## Definição das variáveis"
   ]
  },
  {
   "cell_type": "code",
   "execution_count": 26,
   "metadata": {},
   "outputs": [],
   "source": [
    "problema = LpProblem('Maximizar_Lucro_Implementacao_Gradual', LpMaximize)\n",
    "\n",
    "CapitalDeGiro = LpVariable('Capital_de_giro', lowBound=0)\n",
    "ChequeEspecial = LpVariable('Cheque_Especial', lowBound=0)\n",
    "CreditoPessoal = LpVariable('Crédito_Pessoal', lowBound=0)\n",
    "CreditoPessoalConsignado = LpVariable('Crédito_Pessoal_Consignado', lowBound=0)\n",
    "FinanciamentoImobiliario = LpVariable('Financiamento_Imobiliário', lowBound=0)\n",
    "AquisicaoDeVeiculos = LpVariable('Aquisição_de_veículos', lowBound=0)\n",
    "\n",
    "variaveis = {\n",
    "\t'Capital de giro': CapitalDeGiro,\n",
    "\t'Cheque Especial': ChequeEspecial,\n",
    "\t'Crédito Pessoal': CreditoPessoal,\n",
    "\t'Crédito Pessoal Consignado': CreditoPessoalConsignado,\n",
    "\t'Financiamento Imobiliário': FinanciamentoImobiliario,\n",
    "\t'Aquisição de veículos': AquisicaoDeVeiculos,\n",
    "}"
   ]
  },
  {
   "cell_type": "markdown",
   "metadata": {},
   "source": [
    "#### Calculando o lucro gerado por cada modalidade a partir da quantidade escolhida de clientes"
   ]
  },
  {
   "cell_type": "code",
   "execution_count": 27,
   "metadata": {},
   "outputs": [],
   "source": [
    "problema += lpSum(\n",
    "\t((1 - C['taxa_inadimplencia']) * C['taxa_juros'] * variaveis[C['modalidade']])\n",
    "\tfor C in CLIENTES\n",
    ")"
   ]
  },
  {
   "cell_type": "markdown",
   "metadata": {},
   "source": [
    "## Restrições"
   ]
  },
  {
   "cell_type": "markdown",
   "metadata": {},
   "source": [
    "#### Restringindo por quantidade máxima de clientes"
   ]
  },
  {
   "cell_type": "markdown",
   "metadata": {},
   "source": [
    "Quantos clientes vamos suportar no primeiro trimestre da nossa implementação gradual?"
   ]
  },
  {
   "cell_type": "code",
   "execution_count": 28,
   "metadata": {},
   "outputs": [],
   "source": [
    "MAX_CLIENTES_TRIMESTRE = 6000"
   ]
  },
  {
   "cell_type": "code",
   "execution_count": 29,
   "metadata": {},
   "outputs": [],
   "source": [
    "problema += lpSum(variaveis.values()) <= MAX_CLIENTES_TRIMESTRE"
   ]
  },
  {
   "cell_type": "markdown",
   "metadata": {},
   "source": [
    "#### Restringindo por total de número de clientes interessados"
   ]
  },
  {
   "cell_type": "code",
   "execution_count": 30,
   "metadata": {},
   "outputs": [],
   "source": [
    "for i in range(len(CLIENTES)):\n",
    "\tC = CLIENTES[i]\n",
    "\tV = variaveis[C['modalidade']]\n",
    "\tproblema += V <= C['propostas_recebidas']"
   ]
  },
  {
   "cell_type": "markdown",
   "metadata": {},
   "source": [
    "#### Restringindo por número mínimo de clientes que precisamos pegar de cada modalidade"
   ]
  },
  {
   "cell_type": "markdown",
   "metadata": {},
   "source": [
    "Vamos pegar pelo menos um pouco de cada modalidade, assim podemos ter uma ideia de como a nossa solução vai se comportar"
   ]
  },
  {
   "cell_type": "code",
   "execution_count": 31,
   "metadata": {},
   "outputs": [],
   "source": [
    "AMOSTRA_MINIMA_POSSIVEL = 400"
   ]
  },
  {
   "cell_type": "code",
   "execution_count": 32,
   "metadata": {},
   "outputs": [],
   "source": [
    "for V in variaveis.values():\n",
    "\tproblema += V >= AMOSTRA_MINIMA_POSSIVEL"
   ]
  },
  {
   "cell_type": "markdown",
   "metadata": {},
   "source": [
    "#### Restringindo a quantidade de clientes de Cheque Especial, para evitar tantos problemas logo no começo"
   ]
  },
  {
   "cell_type": "code",
   "execution_count": 33,
   "metadata": {},
   "outputs": [],
   "source": [
    "problema += ChequeEspecial <= 1000"
   ]
  },
  {
   "cell_type": "markdown",
   "metadata": {},
   "source": [
    "## Resolvendo a otimização"
   ]
  },
  {
   "cell_type": "code",
   "execution_count": 34,
   "metadata": {},
   "outputs": [
    {
     "name": "stdout",
     "output_type": "stream",
     "text": [
      "Welcome to the CBC MILP Solver \n",
      "Version: 2.10.3 \n",
      "Build Date: Dec 15 2019 \n",
      "\n",
      "command line - /home/consultor/.asdf/installs/python/3.12.7/lib/python3.12/site-packages/pulp/solverdir/cbc/linux/64/cbc /tmp/b0cb962d42be4b0aa2c5c71229c4ac74-pulp.mps -max -timeMode elapsed -branch -printingOptions all -solution /tmp/b0cb962d42be4b0aa2c5c71229c4ac74-pulp.sol (default strategy 1)\n",
      "At line 2 NAME          MODEL\n",
      "At line 3 ROWS\n",
      "At line 19 COLUMNS\n",
      "At line 45 RHS\n",
      "At line 60 BOUNDS\n",
      "At line 61 ENDATA\n",
      "Problem MODEL has 14 rows, 6 columns and 19 elements\n",
      "Coin0008I MODEL read with 0 errors\n",
      "Option for timeMode changed from cpu to elapsed\n",
      "Presolve determined that the problem was infeasible with tolerance of 1e-08\n",
      "Analysis indicates model infeasible or unbounded\n",
      "0  Obj -0 Primal inf 2400 (6) Dual inf 13.889099 (6)\n",
      "0  Obj -0 Primal inf 2400 (6) Dual inf 6e+10 (6)\n",
      "7  Obj 16531.169 Primal inf 182 (1)\n",
      "Primal infeasible - objective value 16531.169\n",
      "PrimalInfeasible objective 16531.1686 - 7 iterations time 0.002\n",
      "\n",
      "Result - Linear relaxation infeasible\n",
      "\n",
      "Enumerated nodes:           0\n",
      "Total iterations:           0\n",
      "Time (CPU seconds):         0.00\n",
      "Time (Wallclock Seconds):   0.00\n",
      "\n",
      "Option for printingOptions changed from normal to all\n",
      "Total time (CPU seconds):       0.00   (Wallclock seconds):       0.00\n",
      "\n"
     ]
    },
    {
     "data": {
      "text/plain": [
       "-1"
      ]
     },
     "execution_count": 34,
     "metadata": {},
     "output_type": "execute_result"
    }
   ],
   "source": [
    "problema.solve()"
   ]
  },
  {
   "cell_type": "markdown",
   "metadata": {},
   "source": [
    "## Visualização dos resultados"
   ]
  },
  {
   "cell_type": "markdown",
   "metadata": {},
   "source": [
    "#### Quantidade de clientes total:"
   ]
  },
  {
   "cell_type": "code",
   "execution_count": 35,
   "metadata": {},
   "outputs": [
    {
     "name": "stdout",
     "output_type": "stream",
     "text": [
      "Capital de giro: 2051\n",
      "Cheque Especial: 2242\n",
      "Crédito Pessoal: 1982\n",
      "Crédito Pessoal Consignado: 218\n",
      "Financiamento Imobiliário: 1802\n",
      "Aquisição de veículos: 1802\n"
     ]
    }
   ],
   "source": [
    "for C in CLIENTES:\n",
    "    print(f'{C[\"modalidade\"]}: {C[\"propostas_recebidas\"]}')"
   ]
  },
  {
   "cell_type": "markdown",
   "metadata": {},
   "source": [
    "#### Quantidade de clientes escolhida:"
   ]
  },
  {
   "cell_type": "code",
   "execution_count": 36,
   "metadata": {},
   "outputs": [
    {
     "name": "stdout",
     "output_type": "stream",
     "text": [
      "Capital de giro: 1818\n",
      "Cheque Especial: 1000\n",
      "Crédito Pessoal: 1982\n",
      "Crédito Pessoal Consignado: 400\n",
      "Financiamento Imobiliário: 400\n",
      "Aquisição de veículos: 400\n"
     ]
    }
   ],
   "source": [
    "for C in CLIENTES:\n",
    "    print(f\"{C['modalidade']}: {int(variaveis[C['modalidade']].varValue)}\")"
   ]
  }
 ],
 "metadata": {
  "kernelspec": {
   "display_name": "Python 3",
   "language": "python",
   "name": "python3"
  },
  "language_info": {
   "codemirror_mode": {
    "name": "ipython",
    "version": 3
   },
   "file_extension": ".py",
   "mimetype": "text/x-python",
   "name": "python",
   "nbconvert_exporter": "python",
   "pygments_lexer": "ipython3",
   "version": "3.12.7"
  }
 },
 "nbformat": 4,
 "nbformat_minor": 2
}
