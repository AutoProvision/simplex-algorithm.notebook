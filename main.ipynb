{
 "cells": [
  {
   "cell_type": "code",
   "execution_count": 47,
   "metadata": {},
   "outputs": [],
   "source": [
    "%%capture\n",
    "%pip install pulp"
   ]
  },
  {
   "cell_type": "code",
   "execution_count": 48,
   "metadata": {},
   "outputs": [],
   "source": [
    "from pulp import *"
   ]
  },
  {
   "cell_type": "markdown",
   "metadata": {},
   "source": [
    "### Dados de entrada"
   ]
  },
  {
   "cell_type": "code",
   "execution_count": 49,
   "metadata": {},
   "outputs": [],
   "source": [
    "CLIENTES = [\n",
    "\t{\n",
    "\t\t'modalidade': 'Capital de giro',\n",
    "\t\t'propostas_recebidas': 2051,\n",
    "\t\t'taxa_inadimplencia': 0.17,\n",
    "\t\t'taxa_juros': 2.13,\n",
    "\t},\n",
    "\t{\n",
    "\t\t'modalidade': 'Cheque Especial',\n",
    "\t\t'propostas_recebidas': 1242,\n",
    "\t\t'taxa_inadimplencia': 0.60,\n",
    "\t\t'taxa_juros': 8.16,\n",
    "\t},\n",
    "\t{\n",
    "\t\t'modalidade': 'Crédito Pessoal',\n",
    "\t\t'propostas_recebidas': 3982,\n",
    "\t\t'taxa_inadimplencia': 0.36,\n",
    "\t\t'taxa_juros': 6.43,\n",
    "\t},\n",
    "\t{\n",
    "\t\t'modalidade': 'Crédito Pessoal Consignado',\n",
    "\t\t'propostas_recebidas': 218,\n",
    "\t\t'taxa_inadimplencia': 0.00,\n",
    "\t\t'taxa_juros': 2.36,\n",
    "\t},\n",
    "\t{\n",
    "\t\t'modalidade': 'Financiamento Imobiliário',\n",
    "\t\t'propostas_recebidas': 1802,\n",
    "\t\t'taxa_inadimplencia': 0.08,\n",
    "\t\t'taxa_juros': 0.81,\n",
    "\t},\n",
    "\t{\n",
    "\t\t'modalidade': 'Aquisição de veículos',\n",
    "\t\t'propostas_recebidas': 1802,\n",
    "\t\t'taxa_inadimplencia': 0.12,\n",
    "\t\t'taxa_juros': 1.86,\n",
    "\t},\n",
    "]\n"
   ]
  },
  {
   "cell_type": "code",
   "execution_count": 50,
   "metadata": {},
   "outputs": [],
   "source": [
    "MAX_CLIENTES_TRIMESTRE = 5000\n",
    "\n",
    "MINIMO_MODALIDADES = 4\n",
    "\n",
    "AMOSTRA_MINIMA_POSSIVEL = 400"
   ]
  },
  {
   "cell_type": "markdown",
   "metadata": {},
   "source": [
    "### Definição das variáveis"
   ]
  },
  {
   "cell_type": "code",
   "execution_count": 51,
   "metadata": {},
   "outputs": [],
   "source": [
    "problema = LpProblem('Maximizar_Lucro', LpMaximize)\n",
    "\n",
    "variaveis = LpVariable.dicts('Propostas', [C['modalidade'] for C in CLIENTES], lowBound=0)"
   ]
  },
  {
   "cell_type": "markdown",
   "metadata": {},
   "source": [
    "### Aplicação do cálculo sobre as características de cada perfil"
   ]
  },
  {
   "cell_type": "code",
   "execution_count": 53,
   "metadata": {},
   "outputs": [],
   "source": [
    "problema += lpSum(\n",
    "    (1 - C['taxa_inadimplencia']) * C['taxa_juros'] * variaveis[C['modalidade']]\n",
    "    for C in CLIENTES\n",
    ")\n",
    "\n",
    "problema += lpSum(variaveis) <= MAX_CLIENTES_TRIMESTRE\n",
    "\n",
    "for C in CLIENTES:\n",
    "    problema += variaveis[C['modalidade']] <= C['propostas_recebidas']"
   ]
  },
  {
   "cell_type": "code",
   "execution_count": 54,
   "metadata": {},
   "outputs": [
    {
     "name": "stdout",
     "output_type": "stream",
     "text": [
      "Welcome to the CBC MILP Solver \n",
      "Version: 2.10.3 \n",
      "Build Date: Dec 15 2019 \n",
      "\n",
      "command line - /home/consultor/.asdf/installs/python/3.12.7/lib/python3.12/site-packages/pulp/solverdir/cbc/linux/64/cbc /tmp/21db67e8c0944435a1539c31773e1523-pulp.mps -max -timeMode elapsed -branch -printingOptions all -solution /tmp/21db67e8c0944435a1539c31773e1523-pulp.sol (default strategy 1)\n",
      "At line 2 NAME          MODEL\n",
      "At line 3 ROWS\n",
      "At line 13 COLUMNS\n",
      "At line 50 RHS\n",
      "At line 59 BOUNDS\n",
      "At line 66 ENDATA\n",
      "Problem MODEL has 8 rows, 12 columns and 18 elements\n",
      "Coin0008I MODEL read with 0 errors\n",
      "Option for timeMode changed from cpu to elapsed\n",
      "Continuous objective value is 19709.5 - 0.00 seconds\n",
      "Cgl0004I processed model has 1 rows, 6 columns (0 integer (0 of which binary)) and 6 elements\n",
      "Cutoff increment increased from 1e-05 to 9.99e-05\n",
      "Cbc3007W No integer variables - nothing to do\n",
      "Cuts at root node changed objective from -19709.5 to -1.79769e+308\n",
      "Probing was tried 0 times and created 0 cuts of which 0 were active after adding rounds of cuts (0.000 seconds)\n",
      "Gomory was tried 0 times and created 0 cuts of which 0 were active after adding rounds of cuts (0.000 seconds)\n",
      "Knapsack was tried 0 times and created 0 cuts of which 0 were active after adding rounds of cuts (0.000 seconds)\n",
      "Clique was tried 0 times and created 0 cuts of which 0 were active after adding rounds of cuts (0.000 seconds)\n",
      "MixedIntegerRounding2 was tried 0 times and created 0 cuts of which 0 were active after adding rounds of cuts (0.000 seconds)\n",
      "FlowCover was tried 0 times and created 0 cuts of which 0 were active after adding rounds of cuts (0.000 seconds)\n",
      "TwoMirCuts was tried 0 times and created 0 cuts of which 0 were active after adding rounds of cuts (0.000 seconds)\n",
      "ZeroHalf was tried 0 times and created 0 cuts of which 0 were active after adding rounds of cuts (0.000 seconds)\n",
      "\n",
      "Result - Optimal solution found\n",
      "\n",
      "Objective value:                19709.47840000\n",
      "Enumerated nodes:               0\n",
      "Total iterations:               0\n",
      "Time (CPU seconds):             0.00\n",
      "Time (Wallclock seconds):       0.00\n",
      "\n",
      "Option for printingOptions changed from normal to all\n",
      "Total time (CPU seconds):       0.00   (Wallclock seconds):       0.00\n",
      "\n"
     ]
    },
    {
     "data": {
      "text/plain": [
       "1"
      ]
     },
     "execution_count": 54,
     "metadata": {},
     "output_type": "execute_result"
    }
   ],
   "source": [
    "problema.solve()"
   ]
  },
  {
   "cell_type": "markdown",
   "metadata": {},
   "source": [
    "### Visualização dos resultados"
   ]
  },
  {
   "cell_type": "code",
   "execution_count": 55,
   "metadata": {},
   "outputs": [
    {
     "name": "stdout",
     "output_type": "stream",
     "text": [
      "Capital de giro = 0.0\n",
      "Cheque Especial = 1018.0\n",
      "Crédito Pessoal = 3982.0\n",
      "Crédito Pessoal Consignado = 0.0\n",
      "Financiamento Imobiliário = 0.0\n",
      "Aquisição de veículos = 0.0\n"
     ]
    }
   ],
   "source": [
    "for C in CLIENTES:\n",
    "    print(f\"{C['modalidade']} = {variaveis[C['modalidade']].varValue}\")"
   ]
  }
 ],
 "metadata": {
  "kernelspec": {
   "display_name": "Python 3",
   "language": "python",
   "name": "python3"
  },
  "language_info": {
   "codemirror_mode": {
    "name": "ipython",
    "version": 3
   },
   "file_extension": ".py",
   "mimetype": "text/x-python",
   "name": "python",
   "nbconvert_exporter": "python",
   "pygments_lexer": "ipython3",
   "version": "3.12.7"
  }
 },
 "nbformat": 4,
 "nbformat_minor": 2
}
