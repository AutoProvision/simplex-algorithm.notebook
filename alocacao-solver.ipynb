{
 "cells": [
  {
   "cell_type": "code",
   "execution_count": 1,
   "metadata": {},
   "outputs": [],
   "source": [
    "%%capture\n",
    "%pip install pulp"
   ]
  },
  {
   "cell_type": "code",
   "execution_count": 2,
   "metadata": {},
   "outputs": [],
   "source": [
    "from pulp import *"
   ]
  },
  {
   "cell_type": "code",
   "execution_count": 3,
   "metadata": {},
   "outputs": [],
   "source": [
    "funcionarios_dict = {\n",
    "    \"Joca\": { \"desenvolvimento\": 3, \"dados\": 3, \"cloud\": 2, \"negocio\": 1 },\n",
    "    \"Leandro\": { \"desenvolvimento\": 2, \"dados\": 3, \"cloud\": 3, \"negocio\": 1},\n",
    "    \"Erick\": { \"desenvolvimento\": 2, \"dados\": 3, \"cloud\": 3, \"negocio\": 1 },\n",
    "    \"Bruna\": { \"desenvolvimento\": 2, \"dados\": 3, \"cloud\": 1, \"negocio\": 3 },\n",
    "    \"Mariana\": { \"desenvolvimento\": 3, \"dados\": 2, \"cloud\": 1, \"negocio\": 3 },\n",
    "    \"Felipe\": { \"desenvolvimento\": 1, \"dados\": 2, \"cloud\": 3, \"negocio\": 3 },\n",
    "}\n",
    "tasks_dict = {\n",
    "    \"Integração Zoho\": { \"desenvolvimento\": 3, \"dados\": 1, \"cloud\": 3, \"negocio\": 2 },\n",
    "    \"Visualizador\": { \"desenvolvimento\": 3, \"dados\": 1, \"cloud\": 3, \"negocio\": 2 },\n",
    "    \"Arquitetura em Nuvem Dados/Infra\": { \"desenvolvimento\": 1, \"dados\": 1, \"cloud\": 3, \"negocio\": 2 },\n",
    "    \"Inteligência do Negócio\": { \"desenvolvimento\": 1, \"dados\": 3, \"cloud\": 1, \"negocio\": 3 },\n",
    "}\n",
    "\n",
    "funcionarios = list(funcionarios_dict.keys())\n",
    "tasks = list(tasks_dict.keys())\n",
    "\n",
    "modelo = LpProblem('Alocar_Funcionarios', LpMaximize)\n",
    "variaveis = LpVariable.dicts('Alocar', [(f, p) for f in funcionarios for p in tasks], cat='Binary')"
   ]
  },
  {
   "cell_type": "markdown",
   "metadata": {},
   "source": [
    "### Função Objetivo"
   ]
  },
  {
   "cell_type": "code",
   "execution_count": 4,
   "metadata": {},
   "outputs": [],
   "source": [
    "modelo += lpSum([funcionarios_dict[f][h] * tasks_dict[p][h] * variaveis[(f, p)]\n",
    "    for f in funcionarios for p in tasks for h in funcionarios_dict[f].keys()])"
   ]
  },
  {
   "cell_type": "markdown",
   "metadata": {},
   "source": [
    "### Restrições"
   ]
  },
  {
   "cell_type": "markdown",
   "metadata": {},
   "source": [
    "#### Máximo de tasks por funcionário"
   ]
  },
  {
   "cell_type": "code",
   "execution_count": 5,
   "metadata": {},
   "outputs": [],
   "source": [
    "for f in funcionarios:\n",
    "\tmodelo += lpSum([variaveis[(f, p)] for p in tasks]) <= 2"
   ]
  },
  {
   "cell_type": "markdown",
   "metadata": {},
   "source": [
    "#### Máximo de funcionários por task"
   ]
  },
  {
   "cell_type": "code",
   "execution_count": 6,
   "metadata": {},
   "outputs": [],
   "source": [
    "for p in tasks:\n",
    "\tmodelo += lpSum([variaveis[(f, p)] for f in funcionarios]) <= 3"
   ]
  },
  {
   "cell_type": "markdown",
   "metadata": {},
   "source": [
    "#### Mínimo de funcionários por task"
   ]
  },
  {
   "cell_type": "code",
   "execution_count": 7,
   "metadata": {},
   "outputs": [],
   "source": [
    "for p in tasks:\n",
    "\tmodelo += lpSum([variaveis[(f, p)] for f in funcionarios]) >= 2"
   ]
  },
  {
   "cell_type": "code",
   "execution_count": 8,
   "metadata": {},
   "outputs": [
    {
     "name": "stdout",
     "output_type": "stream",
     "text": [
      "Welcome to the CBC MILP Solver \n",
      "Version: 2.10.3 \n",
      "Build Date: Dec 15 2019 \n",
      "\n",
      "command line - /home/consultor/.asdf/installs/python/3.12.7/lib/python3.12/site-packages/pulp/solverdir/cbc/linux/64/cbc /tmp/a76be02436944efb85c43df777440d7c-pulp.mps -max -timeMode elapsed -branch -printingOptions all -solution /tmp/a76be02436944efb85c43df777440d7c-pulp.sol (default strategy 1)\n",
      "At line 2 NAME          MODEL\n",
      "At line 3 ROWS\n",
      "At line 19 COLUMNS\n",
      "At line 164 RHS\n",
      "At line 179 BOUNDS\n",
      "At line 204 ENDATA\n",
      "Problem MODEL has 14 rows, 24 columns and 72 elements\n",
      "Coin0008I MODEL read with 0 errors\n",
      "Option for timeMode changed from cpu to elapsed\n",
      "Continuous objective value is 227 - 0.00 seconds\n",
      "Cgl0004I processed model has 10 rows, 24 columns (24 integer (24 of which binary)) and 48 elements\n",
      "Cutoff increment increased from 1e-05 to 0.9999\n",
      "Cbc0038I Initial state - 0 integers unsatisfied sum - 0\n",
      "Cbc0038I Solution found of -227\n",
      "Cbc0038I Before mini branch and bound, 24 integers at bound fixed and 0 continuous\n",
      "Cbc0038I Mini branch and bound did not improve solution (0.00 seconds)\n",
      "Cbc0038I After 0.00 seconds - Feasibility pump exiting with objective of -227 - took 0.00 seconds\n",
      "Cbc0012I Integer solution of -227 found by feasibility pump after 0 iterations and 0 nodes (0.00 seconds)\n",
      "Cbc0001I Search completed - best objective -227, took 0 iterations and 0 nodes (0.00 seconds)\n",
      "Cbc0035I Maximum depth 0, 0 variables fixed on reduced cost\n",
      "Cuts at root node changed objective from -227 to -227\n",
      "Probing was tried 0 times and created 0 cuts of which 0 were active after adding rounds of cuts (0.000 seconds)\n",
      "Gomory was tried 0 times and created 0 cuts of which 0 were active after adding rounds of cuts (0.000 seconds)\n",
      "Knapsack was tried 0 times and created 0 cuts of which 0 were active after adding rounds of cuts (0.000 seconds)\n",
      "Clique was tried 0 times and created 0 cuts of which 0 were active after adding rounds of cuts (0.000 seconds)\n",
      "MixedIntegerRounding2 was tried 0 times and created 0 cuts of which 0 were active after adding rounds of cuts (0.000 seconds)\n",
      "FlowCover was tried 0 times and created 0 cuts of which 0 were active after adding rounds of cuts (0.000 seconds)\n",
      "TwoMirCuts was tried 0 times and created 0 cuts of which 0 were active after adding rounds of cuts (0.000 seconds)\n",
      "ZeroHalf was tried 0 times and created 0 cuts of which 0 were active after adding rounds of cuts (0.000 seconds)\n",
      "\n",
      "Result - Optimal solution found\n",
      "\n",
      "Objective value:                227.00000000\n",
      "Enumerated nodes:               0\n",
      "Total iterations:               0\n",
      "Time (CPU seconds):             0.00\n",
      "Time (Wallclock seconds):       0.01\n",
      "\n",
      "Option for printingOptions changed from normal to all\n",
      "Total time (CPU seconds):       0.01   (Wallclock seconds):       0.01\n",
      "\n"
     ]
    },
    {
     "data": {
      "text/plain": [
       "1"
      ]
     },
     "execution_count": 8,
     "metadata": {},
     "output_type": "execute_result"
    }
   ],
   "source": [
    "modelo.solve()"
   ]
  },
  {
   "cell_type": "code",
   "execution_count": 9,
   "metadata": {},
   "outputs": [
    {
     "name": "stdout",
     "output_type": "stream",
     "text": [
      "Alocar_('Bruna',_'Integração_Zoho')\n",
      "Alocar_('Bruna',_'Inteligência_do_Negócio')\n",
      "Alocar_('Erick',_'Arquitetura_em_Nuvem_Dados_Infra')\n",
      "Alocar_('Erick',_'Integração_Zoho')\n",
      "Alocar_('Felipe',_'Arquitetura_em_Nuvem_Dados_Infra')\n",
      "Alocar_('Felipe',_'Inteligência_do_Negócio')\n",
      "Alocar_('Joca',_'Integração_Zoho')\n",
      "Alocar_('Joca',_'Visualizador')\n",
      "Alocar_('Leandro',_'Arquitetura_em_Nuvem_Dados_Infra')\n",
      "Alocar_('Leandro',_'Visualizador')\n",
      "Alocar_('Mariana',_'Inteligência_do_Negócio')\n",
      "Alocar_('Mariana',_'Visualizador')\n"
     ]
    }
   ],
   "source": [
    "for v in modelo.variables():\n",
    "    if v.varValue == 1:\n",
    "        print(v.name)"
   ]
  }
 ],
 "metadata": {
  "kernelspec": {
   "display_name": "Python 3",
   "language": "python",
   "name": "python3"
  },
  "language_info": {
   "codemirror_mode": {
    "name": "ipython",
    "version": 3
   },
   "file_extension": ".py",
   "mimetype": "text/x-python",
   "name": "python",
   "nbconvert_exporter": "python",
   "pygments_lexer": "ipython3",
   "version": "3.12.7"
  }
 },
 "nbformat": 4,
 "nbformat_minor": 2
}
